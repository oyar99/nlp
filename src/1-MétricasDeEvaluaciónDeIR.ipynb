{
 "cells": [
  {
   "cell_type": "code",
   "execution_count": 1,
   "id": "77c03402-b2f0-4d95-b7ae-e1b7b571cfe4",
   "metadata": {},
   "outputs": [],
   "source": [
    "import numpy as np\n",
    "import pandas as pd"
   ]
  },
  {
   "cell_type": "code",
   "execution_count": 2,
   "id": "94b72109-73fe-4923-a493-3bc906c33ffa",
   "metadata": {},
   "outputs": [
    {
     "data": {
      "text/plain": [
       "0.25"
      ]
     },
     "execution_count": 2,
     "metadata": {},
     "output_type": "execute_result"
    }
   ],
   "source": [
    "def precision(relevance_query):\n",
    "    \"\"\"\n",
    "    Calcula la precisión de un query de relevancia.\n",
    "    \n",
    "    Parámetros:\n",
    "    - relevance_query (list): Una lista con valores de relevancia binaria.\n",
    "    \n",
    "    Devuelve:\n",
    "    - precision (float): El score de precisión del query.\n",
    "    \"\"\"\n",
    "    relevance_array = np.array(relevance_query)\n",
    "    precision = np.sum(relevance_array == 1) / len(relevance_array)\n",
    "    return precision\n",
    "\n",
    "# Ejemplo de la tarea\n",
    "relevance_query_1 = [0, 0, 0, 1]\n",
    "precision(relevance_query_1)    # En este caso, la precisión debería ser 0.25"
   ]
  },
  {
   "cell_type": "code",
   "execution_count": 3,
   "id": "eca3a0e4-426d-4a96-a90e-921bccb70b56",
   "metadata": {},
   "outputs": [
    {
     "data": {
      "text/plain": [
       "0.0"
      ]
     },
     "execution_count": 3,
     "metadata": {},
     "output_type": "execute_result"
    }
   ],
   "source": [
    "def precision_at_k(relevance_query, k):\n",
    "    \"\"\"\n",
    "    Calcula la precisión en k para un query de relevancia.\n",
    "    \n",
    "    Parámetros:\n",
    "    - relevance_query (list): Una lista con valores de relevancia binaria.\n",
    "    - k (int): El número de resultados principales a considerar.\n",
    "    \n",
    "    Devuelve:\n",
    "    - precision_at_k (float): El score de precisión en k del query.\n",
    "    \"\"\"\n",
    "    relevance_array = np.array(relevance_query)\n",
    "    precision_at_k = np.sum(relevance_array[:k] == 1) / k\n",
    "    return precision_at_k\n",
    "\n",
    "# Ejemplo de la tarea\n",
    "relevance_query_1 = [0, 0, 0, 1]\n",
    "k = 1\n",
    "precision_at_k(relevance_query_1, k)    # En este caso, la precisión en k debería ser 0.0"
   ]
  },
  {
   "cell_type": "code",
   "execution_count": 4,
   "id": "c69a7fb9-4fe2-4728-bf47-f3e9ac2e474b",
   "metadata": {},
   "outputs": [
    {
     "data": {
      "text/plain": [
       "0.0"
      ]
     },
     "execution_count": 4,
     "metadata": {},
     "output_type": "execute_result"
    }
   ],
   "source": [
    "def recall_at_k(relevance_query, number_relevant_docs, k):\n",
    "    \"\"\"\n",
    "    Calcula el recall en k para un query de relevancia.\n",
    "    \n",
    "    Parámetros:\n",
    "    - relevance_query (list): Una lista con valores de relevancia binaria.\n",
    "    - number_relevant_docs (int): El número de documentos relevantes.\n",
    "    - k (int): El número de resultados principales a considerar.\n",
    "    \n",
    "    Devuelve:\n",
    "    - recall_at_k (float): El score de recall en k del query.\n",
    "    \"\"\"\n",
    "    relevance_array = np.array(relevance_query)\n",
    "    recall_at_k = np.sum(relevance_array[:k] == 1) / number_relevant_docs\n",
    "    return recall_at_k\n",
    "\n",
    "# Ejemplo de la tarea\n",
    "relevance_query_1 = [0, 0, 0, 1]\n",
    "k = 1\n",
    "number_relevant_docs = 4\n",
    "recall_at_k(relevance_query_1, number_relevant_docs, k)    # En este caso, el recall en k debería ser 0.0"
   ]
  },
  {
   "cell_type": "code",
   "execution_count": 5,
   "id": "06f703d0-f9d2-450e-8956-b44b91d62135",
   "metadata": {},
   "outputs": [
    {
     "data": {
      "text/plain": [
       "0.5961904761904762"
      ]
     },
     "execution_count": 5,
     "metadata": {},
     "output_type": "execute_result"
    }
   ],
   "source": [
    "def average_precision(relevance_query):\n",
    "    \"\"\"\n",
    "    Calcula el average precision de un query de relevancia.\n",
    "    \n",
    "    Parámetros:\n",
    "    - relevance_query (list): Una lista con valores de relevancia binaria.\n",
    "    \n",
    "    Devuelve:\n",
    "    - average_precision (float): El score de average precision del query.\n",
    "    \"\"\"\n",
    "    relevance_array = np.array(relevance_query)\n",
    "    relevant_ranks = np.where(relevance_array == 1)[0] + 1\n",
    "    precisions_at_k = [precision_at_k(relevance_query, k) for k in relevant_ranks]\n",
    "    average_precision = np.sum(precisions_at_k) / np.sum(relevance_array)\n",
    "    return average_precision\n",
    "\n",
    "# Ejemplo de la tarea\n",
    "relevance_query_2 = [0, 1, 0, 1, 1, 1, 1]\n",
    "average_precision(relevance_query_2)    # En este caso, el average precision debería ser 0.5961904"
   ]
  },
  {
   "cell_type": "code",
   "execution_count": 6,
   "id": "e3b615db-b170-4d6a-bf9c-4a44024b6208",
   "metadata": {},
   "outputs": [
    {
     "data": {
      "text/plain": [
       "0.4230952380952381"
      ]
     },
     "execution_count": 6,
     "metadata": {},
     "output_type": "execute_result"
    }
   ],
   "source": [
    "def mean_average_precision(relevance_queries):\n",
    "    \"\"\"\n",
    "    Calcula el mean average precision de un conjunto de queries de relevancia.\n",
    "    \n",
    "    Parámetros:\n",
    "    - relevance_queries (list): Una lista de vectores binarios, siendo cada\n",
    "    vector el resultado de la consulta de un query de relevancia binaria.\n",
    "    \n",
    "    Devuelve:\n",
    "    - mean_average_precision (float): El score de mean average precision del\n",
    "    conjunto de queries.\n",
    "    \"\"\"\n",
    "    mean_average_precision = np.mean([average_precision(q) for q in relevance_queries])\n",
    "    return mean_average_precision\n",
    "\n",
    "# Ejemplo mío usando las dos queries de la tarea definidas hasta ahora\n",
    "relevance_queries = [relevance_query_1, relevance_query_2]\n",
    "mean_average_precision(relevance_queries)"
   ]
  },
  {
   "cell_type": "code",
   "execution_count": 7,
   "id": "6390834c-b1a9-47b7-8236-8339368db10a",
   "metadata": {},
   "outputs": [
    {
     "data": {
      "text/plain": [
       "10.279642067948915"
      ]
     },
     "execution_count": 7,
     "metadata": {},
     "output_type": "execute_result"
    }
   ],
   "source": [
    "def dcg_at_k(relevance_query, k):\n",
    "    \"\"\"\n",
    "    Calcula la ganancia acumulada descontada en k para un query de relevancia.\n",
    "    \n",
    "    Parámetros:\n",
    "    - relevance_query (list): Una lista de números naturales que representan\n",
    "    valores de relevancia.\n",
    "    - k (int): El número de resultados principales a considerar.\n",
    "    \n",
    "    Devuelve:\n",
    "    - dcg_at_k (float): El score de la ganancia acumulada descontada en k del\n",
    "    query.\n",
    "    \"\"\"\n",
    "    REL_i = np.array(relevance_query)\n",
    "    discount_factor = np.array([1 / np.log2(np.max([i, 2])) for i in range(1, len(REL_i) + 1)])\n",
    "    gain = np.multiply(REL_i, discount_factor)\n",
    "    dcg_at_k = np.sum(gain[:k])\n",
    "    return dcg_at_k\n",
    "\n",
    "# Ejemplo de la tarea\n",
    "relevance_query_3 = [4, 4, 3, 0, 0, 1, 3, 3, 3, 0]\n",
    "k = 6\n",
    "dcg_at_k(relevance_query_3, k)    # En este caso, la ganancia acumulada descontada en k debería ser 10.27964"
   ]
  },
  {
   "cell_type": "code",
   "execution_count": 8,
   "id": "e73aaec9-42e4-49ad-885b-66ff970a90c4",
   "metadata": {},
   "outputs": [
    {
     "data": {
      "text/plain": [
       "0.7424602308163405"
      ]
     },
     "execution_count": 8,
     "metadata": {},
     "output_type": "execute_result"
    }
   ],
   "source": [
    "def ndcg_at_k(relevance_query, k):\n",
    "    \"\"\"\n",
    "    Calcula la ganancia acumulada descontada en k normalizada para un query de\n",
    "    relevancia.\n",
    "    \n",
    "    Parámetros:\n",
    "    - relevance_query (list): Una lista de números naturales que representan\n",
    "    valores de relevancia.\n",
    "    - k (int): El número de resultados principales a considerar.\n",
    "    \n",
    "    Devuelve:\n",
    "    - dcg_at_k (float): El score de la ganancia acumulada descontada en k\n",
    "    normalizada del query.\n",
    "    \"\"\"\n",
    "    best_ranking = np.sort(relevance_query)[::-1]\n",
    "    ndcg_at_k = dcg_at_k(relevance_query, k) / dcg_at_k(best_ranking, k)\n",
    "    return ndcg_at_k\n",
    "\n",
    "# Ejemplo de la tarea\n",
    "relevance_query_3 = [4, 4, 3, 0, 0, 1, 3, 3, 3, 0]\n",
    "k = 6\n",
    "ndcg_at_k(relevance_query_3, k)    # En este caso, la ganancia acumulada descontada en k normalizada debería ser 0.7424"
   ]
  }
 ],
 "metadata": {
  "kernelspec": {
   "display_name": "Python 3 (ipykernel)",
   "language": "python",
   "name": "python3"
  },
  "language_info": {
   "codemirror_mode": {
    "name": "ipython",
    "version": 3
   },
   "file_extension": ".py",
   "mimetype": "text/x-python",
   "name": "python",
   "nbconvert_exporter": "python",
   "pygments_lexer": "ipython3",
   "version": "3.9.18"
  }
 },
 "nbformat": 4,
 "nbformat_minor": 5
}
