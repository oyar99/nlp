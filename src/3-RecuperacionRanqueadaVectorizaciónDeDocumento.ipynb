{
 "cells": [
  {
   "cell_type": "code",
   "execution_count": 57,
   "metadata": {},
   "outputs": [],
   "source": [
    "import json\n",
    "import numpy as np"
   ]
  },
  {
   "cell_type": "code",
   "execution_count": 58,
   "metadata": {},
   "outputs": [],
   "source": [
    "inverted_index = json.loads(open('./output/inverted_index.json').read())"
   ]
  },
  {
   "cell_type": "code",
   "execution_count": 59,
   "metadata": {},
   "outputs": [],
   "source": [
    "# Unique documents in the corpus\n",
    "docs = {doc for docs_freq in inverted_index.values() for doc in docs_freq}\n",
    "\n",
    "# Calculate IDF for each term\n",
    "idf = {term: np.log10(len(docs) / len(doc_freq)) for term, doc_freq in inverted_index.items()}\n",
    "\n",
    "# Calculate TF for each term in each document\n",
    "tf = {doc: {term: np.log10(1 + inverted_index[term].get(doc, 0)) for term in inverted_index.keys()} for doc in docs}\n",
    "\n",
    "# Calculate TF-IDF for each term in each document\n",
    "tf_idf_1 = {doc: {term: tf[doc][term] * idf[term] for term in inverted_index} for doc in docs}"
   ]
  },
  {
   "cell_type": "code",
   "execution_count": null,
   "metadata": {},
   "outputs": [
    {
     "data": {
      "text/plain": [
       "12463"
      ]
     },
     "execution_count": 53,
     "metadata": {},
     "output_type": "execute_result"
    }
   ],
   "source": [
    "len(tf_idf_1['d259'])"
   ]
  },
  {
   "cell_type": "code",
   "execution_count": null,
   "metadata": {},
   "outputs": [],
   "source": [
    "# Precompute the number of documents and document frequency for each term\n",
    "num_docs = len({doc for docs_freq in inverted_index.values() for doc in docs_freq})\n",
    "total_term_freq = {term: len(docs_freq) for term, docs_freq in inverted_index.items()}\n",
    "\n",
    "# Precompute IDF values\n",
    "idf = {term: np.log10(num_docs / df) for term, df in total_term_freq.items()}\n",
    "\n",
    "# Initialize TF-IDF dictionary\n",
    "tf_idf_2 = {doc: {} for doc in docs}\n",
    "\n",
    "# Compute TF and TF-IDF for each document\n",
    "for term, docs_freq in inverted_index.items():\n",
    "    idf_value = idf[term]\n",
    "    for doc, freq in docs_freq.items():\n",
    "        tf_value = np.log10(1 + freq)\n",
    "        tf_idf_2[doc][term] = tf_value * idf_value\n",
    "\n"
   ]
  },
  {
   "cell_type": "code",
   "execution_count": null,
   "metadata": {},
   "outputs": [
    {
     "data": {
      "text/plain": [
       "131"
      ]
     },
     "execution_count": 56,
     "metadata": {},
     "output_type": "execute_result"
    }
   ],
   "source": [
    "len(tf_idf_2['d259'])"
   ]
  }
 ],
 "metadata": {
  "kernelspec": {
   "display_name": "Python 3",
   "language": "python",
   "name": "python3"
  },
  "language_info": {
   "codemirror_mode": {
    "name": "ipython",
    "version": 3
   },
   "file_extension": ".py",
   "mimetype": "text/x-python",
   "name": "python",
   "nbconvert_exporter": "python",
   "pygments_lexer": "ipython3",
   "version": "3.10.12"
  }
 },
 "nbformat": 4,
 "nbformat_minor": 2
}
