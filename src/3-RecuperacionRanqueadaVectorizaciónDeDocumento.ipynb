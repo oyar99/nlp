{
 "cells": [
  {
   "cell_type": "code",
   "execution_count": 185,
   "metadata": {},
   "outputs": [],
   "source": [
    "import json\n",
    "import numpy as np"
   ]
  },
  {
   "cell_type": "code",
   "execution_count": 186,
   "metadata": {},
   "outputs": [],
   "source": [
    "def crear_tf_idf(inverted_index: dict[dict[int]], \n",
    "                 tf_log_scale: bool = True) -> tuple[dict[dict[float]], list[str], list[int]]:\n",
    "    \"\"\"\n",
    "    Calcula la matriz TF-IDF a partir de un índice invertido.\n",
    "\n",
    "    Esta función toma un índice invertido que mapea términos a documentos y sus frecuencias, \n",
    "    y calcula la matriz TF-IDF para cada término en cada documento. La opción de usar escala \n",
    "    logarítmica para la frecuencia de términos (TF) es configurable.\n",
    "\n",
    "    Args:\n",
    "        inverted_index (dict[dict[int]]): \n",
    "            Un diccionario donde las claves son términos (str) y los valores son diccionarios.\n",
    "            Estos diccionarios internos mapean el ID del documento (int) a la frecuencia de ese \n",
    "            término en el documento.\n",
    "\n",
    "        tf_log_scale (bool, opcional): \n",
    "            Indica si se debe aplicar escala logarítmica al cálculo de la frecuencia de términos (TF).\n",
    "            Por defecto es True, lo que significa que se usará la fórmula `log10(1 + frecuencia)`. Si \n",
    "            se establece en False, se usará la frecuencia sin escala logarítmica.\n",
    "\n",
    "    Returns:\n",
    "        tuple[dict[dict[float]], list[str], list[int]]: \n",
    "            Retorna una tupla que contiene:\n",
    "            - tf_idf (dict[dict[float]]): Un diccionario donde las claves son IDs de documentos \n",
    "              y los valores son diccionarios. Estos diccionarios internos mapean términos a sus \n",
    "              correspondientes valores TF-IDF en ese documento.\n",
    "            - terms (list[str]): Una lista ordenada de los términos presentes en el índice invertido.\n",
    "            - docs (list[int]): Una lista ordenada de los IDs de documentos únicos en el corpus.\n",
    "    \"\"\"\n",
    "\n",
    "    # Obtiene y ordena los términos únicos en el índice invertido.\n",
    "    terms = sorted(list(inverted_index.keys()))\n",
    "\n",
    "    # Extrae y ordena los IDs de documentos únicos en el corpus.\n",
    "    docs = {doc for docs_freq in inverted_index.values() for doc in docs_freq}\n",
    "    docs = sorted(list(docs))\n",
    "\n",
    "    # Calcula el Inverse Document Frequency (IDF) para cada término.\n",
    "    # IDF = log10(N / df), donde N es el número total de documentos y df es la frecuencia de documentos que contienen el término.\n",
    "    idf = {term: np.log10(len(docs) / len(doc_freq))\n",
    "           for term, doc_freq in inverted_index.items()}\n",
    "\n",
    "    # Calcula el Term Frequency (TF) para cada término en cada documento.\n",
    "    # Si se aplica escala logarítmica, se usa la fórmula: TF = log10(1 + frecuencia).\n",
    "    # Si no, se utiliza la frecuencia directa (método empleado por Gensim).\n",
    "    if tf_log_scale:\n",
    "        tf = {doc: {term: np.log10(\n",
    "            1 + inverted_index[term].get(doc, 0)) for term in inverted_index.keys()} for doc in docs}\n",
    "    else:\n",
    "        tf = {doc: {term: inverted_index[term].get(\n",
    "            doc, 0) for term in inverted_index.keys()} for doc in docs}\n",
    "\n",
    "    # Calcula el TF-IDF para cada término en cada documento.\n",
    "    # TF-IDF = TF * IDF para cada término en cada documento.\n",
    "    tf_idf = {doc: {term: tf[doc][term] * idf[term]\n",
    "                    for term in terms} for doc in docs}\n",
    "\n",
    "    # Retorna la matriz TF-IDF, la lista de términos y la lista de documentos.\n",
    "    return tf_idf, terms, docs"
   ]
  },
  {
   "cell_type": "code",
   "execution_count": 187,
   "metadata": {},
   "outputs": [],
   "source": [
    "inverted_index = json.loads(open('./output/inverted_index.json').read())"
   ]
  },
  {
   "cell_type": "code",
   "execution_count": 193,
   "metadata": {},
   "outputs": [],
   "source": [
    "tf_idf, terms, docs = crear_tf_idf(inverted_index, \n",
    "                                   tf_log_scale=True)"
   ]
  },
  {
   "cell_type": "code",
   "execution_count": 194,
   "metadata": {},
   "outputs": [
    {
     "data": {
      "text/plain": [
       "(331, 12463)"
      ]
     },
     "execution_count": 194,
     "metadata": {},
     "output_type": "execute_result"
    }
   ],
   "source": [
    "tf_idf_matrix = np.array([[tf_idf[doc][term] for term in terms] for doc in docs])\n",
    "\n",
    "# normalize the tf-idf matrix by row\n",
    "tf_idf_matrix = tf_idf_matrix / np.linalg.norm(tf_idf_matrix, axis=1)[:, None]\n",
    "\n",
    "tf_idf_matrix.shape "
   ]
  },
  {
   "cell_type": "code",
   "execution_count": 195,
   "metadata": {},
   "outputs": [
    {
     "data": {
      "text/plain": [
       "0.03050493640437181"
      ]
     },
     "execution_count": 195,
     "metadata": {},
     "output_type": "execute_result"
    }
   ],
   "source": [
    "tf_idf_matrix[0][55]"
   ]
  },
  {
   "cell_type": "code",
   "execution_count": null,
   "metadata": {},
   "outputs": [],
   "source": []
  }
 ],
 "metadata": {
  "kernelspec": {
   "display_name": "Python 3",
   "language": "python",
   "name": "python3"
  },
  "language_info": {
   "codemirror_mode": {
    "name": "ipython",
    "version": 3
   },
   "file_extension": ".py",
   "mimetype": "text/x-python",
   "name": "python",
   "nbconvert_exporter": "python",
   "pygments_lexer": "ipython3",
   "version": "3.10.12"
  }
 },
 "nbformat": 4,
 "nbformat_minor": 2
}
