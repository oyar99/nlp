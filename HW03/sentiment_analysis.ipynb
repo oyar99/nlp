{
 "cells": [
  {
   "cell_type": "code",
   "execution_count": 1,
   "metadata": {},
   "outputs": [],
   "source": [
    "from glob import glob\n",
    "from functions import create_sentiment_dataset, build_preprocess_pipeline\n",
    "from tqdm import tqdm\n",
    "\n",
    "from sklearn.metrics import classification_report\n",
    "from sklearn.naive_bayes import MultinomialNB\n",
    "from sklearn.linear_model import LogisticRegression\n"
   ]
  },
  {
   "cell_type": "code",
   "execution_count": 2,
   "metadata": {},
   "outputs": [],
   "source": [
    "files = glob('data/Multi Domain Sentiment/processed_acl/*/*')"
   ]
  },
  {
   "cell_type": "code",
   "execution_count": 3,
   "metadata": {},
   "outputs": [
    {
     "data": {
      "text/html": [
       "<div>\n",
       "<style scoped>\n",
       "    .dataframe tbody tr th:only-of-type {\n",
       "        vertical-align: middle;\n",
       "    }\n",
       "\n",
       "    .dataframe tbody tr th {\n",
       "        vertical-align: top;\n",
       "    }\n",
       "\n",
       "    .dataframe thead th {\n",
       "        text-align: right;\n",
       "    }\n",
       "</style>\n",
       "<table border=\"1\" class=\"dataframe\">\n",
       "  <thead>\n",
       "    <tr style=\"text-align: right;\">\n",
       "      <th></th>\n",
       "      <th>raw_text</th>\n",
       "      <th>label</th>\n",
       "      <th>text</th>\n",
       "      <th>folder</th>\n",
       "      <th>file</th>\n",
       "    </tr>\n",
       "  </thead>\n",
       "  <tbody>\n",
       "    <tr>\n",
       "      <th>0</th>\n",
       "      <td>gaps:1 well:1 it_together:1 a_stack:1 the_cd:1...</td>\n",
       "      <td>negative</td>\n",
       "      <td>gaps  well  it together  a stack  the cd  bott...</td>\n",
       "      <td>electronics</td>\n",
       "      <td>negative.review</td>\n",
       "    </tr>\n",
       "    <tr>\n",
       "      <th>1</th>\n",
       "      <td>save_your:2 steady_on:1 save:2 picture:1 your_...</td>\n",
       "      <td>negative</td>\n",
       "      <td>save your  steady on  save  picture  your mone...</td>\n",
       "      <td>electronics</td>\n",
       "      <td>negative.review</td>\n",
       "    </tr>\n",
       "    <tr>\n",
       "      <th>2</th>\n",
       "      <td>i:2 slightest_smudge:1 nice_for:1 errors:1 pla...</td>\n",
       "      <td>negative</td>\n",
       "      <td>i  slightest smudge  nice for  errors  player ...</td>\n",
       "      <td>electronics</td>\n",
       "      <td>negative.review</td>\n",
       "    </tr>\n",
       "    <tr>\n",
       "      <th>3</th>\n",
       "      <td>but_i:1 two:1 i:2 even:1 without:1 one:1 inexp...</td>\n",
       "      <td>negative</td>\n",
       "      <td>but i  two  i  even  without  one  inexpensive...</td>\n",
       "      <td>electronics</td>\n",
       "      <td>negative.review</td>\n",
       "    </tr>\n",
       "    <tr>\n",
       "      <th>4</th>\n",
       "      <td>failure:1 people_should:1 my_software:1 and_sa...</td>\n",
       "      <td>negative</td>\n",
       "      <td>failure  people should  my software  and save ...</td>\n",
       "      <td>electronics</td>\n",
       "      <td>negative.review</td>\n",
       "    </tr>\n",
       "    <tr>\n",
       "      <th>...</th>\n",
       "      <td>...</td>\n",
       "      <td>...</td>\n",
       "      <td>...</td>\n",
       "      <td>...</td>\n",
       "      <td>...</td>\n",
       "    </tr>\n",
       "    <tr>\n",
       "      <th>27672</th>\n",
       "      <td>mass:1 specifically_references:1 science:1 rel...</td>\n",
       "      <td>negative</td>\n",
       "      <td>mass  specifically references  science  releva...</td>\n",
       "      <td>books</td>\n",
       "      <td>unlabeled.review</td>\n",
       "    </tr>\n",
       "    <tr>\n",
       "      <th>27673</th>\n",
       "      <td>reviewer's_comments:1 to_pick:1 comments:1 and...</td>\n",
       "      <td>negative</td>\n",
       "      <td>reviewer's comments  to pick  comments  and ul...</td>\n",
       "      <td>books</td>\n",
       "      <td>unlabeled.review</td>\n",
       "    </tr>\n",
       "    <tr>\n",
       "      <th>27674</th>\n",
       "      <td>x-ers:1 entry-level:1 can_dip:1 from_beginning...</td>\n",
       "      <td>positive</td>\n",
       "      <td>x-ers  entry-level  can dip  from beginning  v...</td>\n",
       "      <td>books</td>\n",
       "      <td>unlabeled.review</td>\n",
       "    </tr>\n",
       "    <tr>\n",
       "      <th>27675</th>\n",
       "      <td>your:1 well:1 around_for:1 you're_coming:1 for...</td>\n",
       "      <td>positive</td>\n",
       "      <td>your  well  around for  you're coming  for mor...</td>\n",
       "      <td>books</td>\n",
       "      <td>unlabeled.review</td>\n",
       "    </tr>\n",
       "    <tr>\n",
       "      <th>27676</th>\n",
       "      <td>track_in:1 it_before:1 dealing:1 on_staying:1 ...</td>\n",
       "      <td>positive</td>\n",
       "      <td>track in  it before  dealing  on staying  look...</td>\n",
       "      <td>books</td>\n",
       "      <td>unlabeled.review</td>\n",
       "    </tr>\n",
       "  </tbody>\n",
       "</table>\n",
       "<p>27677 rows × 5 columns</p>\n",
       "</div>"
      ],
      "text/plain": [
       "                                                raw_text     label  \\\n",
       "0      gaps:1 well:1 it_together:1 a_stack:1 the_cd:1...  negative   \n",
       "1      save_your:2 steady_on:1 save:2 picture:1 your_...  negative   \n",
       "2      i:2 slightest_smudge:1 nice_for:1 errors:1 pla...  negative   \n",
       "3      but_i:1 two:1 i:2 even:1 without:1 one:1 inexp...  negative   \n",
       "4      failure:1 people_should:1 my_software:1 and_sa...  negative   \n",
       "...                                                  ...       ...   \n",
       "27672  mass:1 specifically_references:1 science:1 rel...  negative   \n",
       "27673  reviewer's_comments:1 to_pick:1 comments:1 and...  negative   \n",
       "27674  x-ers:1 entry-level:1 can_dip:1 from_beginning...  positive   \n",
       "27675  your:1 well:1 around_for:1 you're_coming:1 for...  positive   \n",
       "27676  track_in:1 it_before:1 dealing:1 on_staying:1 ...  positive   \n",
       "\n",
       "                                                    text       folder  \\\n",
       "0      gaps  well  it together  a stack  the cd  bott...  electronics   \n",
       "1      save your  steady on  save  picture  your mone...  electronics   \n",
       "2      i  slightest smudge  nice for  errors  player ...  electronics   \n",
       "3      but i  two  i  even  without  one  inexpensive...  electronics   \n",
       "4      failure  people should  my software  and save ...  electronics   \n",
       "...                                                  ...          ...   \n",
       "27672  mass  specifically references  science  releva...        books   \n",
       "27673  reviewer's comments  to pick  comments  and ul...        books   \n",
       "27674  x-ers  entry-level  can dip  from beginning  v...        books   \n",
       "27675  your  well  around for  you're coming  for mor...        books   \n",
       "27676  track in  it before  dealing  on staying  look...        books   \n",
       "\n",
       "                   file  \n",
       "0       negative.review  \n",
       "1       negative.review  \n",
       "2       negative.review  \n",
       "3       negative.review  \n",
       "4       negative.review  \n",
       "...                 ...  \n",
       "27672  unlabeled.review  \n",
       "27673  unlabeled.review  \n",
       "27674  unlabeled.review  \n",
       "27675  unlabeled.review  \n",
       "27676  unlabeled.review  \n",
       "\n",
       "[27677 rows x 5 columns]"
      ]
     },
     "execution_count": 3,
     "metadata": {},
     "output_type": "execute_result"
    }
   ],
   "source": [
    "df = create_sentiment_dataset(files)\n",
    "df"
   ]
  },
  {
   "cell_type": "code",
   "execution_count": 4,
   "metadata": {},
   "outputs": [
    {
     "data": {
      "text/html": [
       "<div>\n",
       "<style scoped>\n",
       "    .dataframe tbody tr th:only-of-type {\n",
       "        vertical-align: middle;\n",
       "    }\n",
       "\n",
       "    .dataframe tbody tr th {\n",
       "        vertical-align: top;\n",
       "    }\n",
       "\n",
       "    .dataframe thead th {\n",
       "        text-align: right;\n",
       "    }\n",
       "</style>\n",
       "<table border=\"1\" class=\"dataframe\">\n",
       "  <thead>\n",
       "    <tr style=\"text-align: right;\">\n",
       "      <th>file</th>\n",
       "      <th>negative.review</th>\n",
       "      <th>positive.review</th>\n",
       "      <th>unlabeled.review</th>\n",
       "    </tr>\n",
       "    <tr>\n",
       "      <th>folder</th>\n",
       "      <th></th>\n",
       "      <th></th>\n",
       "      <th></th>\n",
       "    </tr>\n",
       "  </thead>\n",
       "  <tbody>\n",
       "    <tr>\n",
       "      <th>books</th>\n",
       "      <td>1000</td>\n",
       "      <td>1000</td>\n",
       "      <td>4465</td>\n",
       "    </tr>\n",
       "    <tr>\n",
       "      <th>dvd</th>\n",
       "      <td>1000</td>\n",
       "      <td>1000</td>\n",
       "      <td>3586</td>\n",
       "    </tr>\n",
       "    <tr>\n",
       "      <th>electronics</th>\n",
       "      <td>1000</td>\n",
       "      <td>1000</td>\n",
       "      <td>5681</td>\n",
       "    </tr>\n",
       "    <tr>\n",
       "      <th>kitchen</th>\n",
       "      <td>1000</td>\n",
       "      <td>1000</td>\n",
       "      <td>5945</td>\n",
       "    </tr>\n",
       "  </tbody>\n",
       "</table>\n",
       "</div>"
      ],
      "text/plain": [
       "file         negative.review  positive.review  unlabeled.review\n",
       "folder                                                         \n",
       "books                   1000             1000              4465\n",
       "dvd                     1000             1000              3586\n",
       "electronics             1000             1000              5681\n",
       "kitchen                 1000             1000              5945"
      ]
     },
     "execution_count": 4,
     "metadata": {},
     "output_type": "execute_result"
    }
   ],
   "source": [
    "df.groupby(['folder','file']).size().unstack().fillna(0)"
   ]
  },
  {
   "cell_type": "markdown",
   "metadata": {},
   "source": [
    "## Train - Test splitting"
   ]
  },
  {
   "cell_type": "code",
   "execution_count": 5,
   "metadata": {},
   "outputs": [],
   "source": [
    "train_data = df[df.file!='unlabeled.review'].reset_index(drop=True)\n",
    "test_data = df[df.file=='unlabeled.review'].reset_index(drop=True)"
   ]
  },
  {
   "cell_type": "markdown",
   "metadata": {},
   "source": [
    "# Classifier per category\n",
    "## TF - IDF\n",
    "### Logistic Regression"
   ]
  },
  {
   "cell_type": "code",
   "execution_count": 6,
   "metadata": {},
   "outputs": [
    {
     "name": "stderr",
     "output_type": "stream",
     "text": [
      " 25%|██▌       | 1/4 [00:02<00:08,  2.76s/it]"
     ]
    },
    {
     "name": "stdout",
     "output_type": "stream",
     "text": [
      "************* electronics *************\n",
      "              precision    recall  f1-score   support\n",
      "\n",
      "    negative       0.85      0.84      0.84      2824\n",
      "    positive       0.84      0.85      0.85      2857\n",
      "\n",
      "    accuracy                           0.85      5681\n",
      "   macro avg       0.85      0.85      0.85      5681\n",
      "weighted avg       0.85      0.85      0.85      5681\n",
      "\n"
     ]
    },
    {
     "name": "stderr",
     "output_type": "stream",
     "text": [
      " 50%|█████     | 2/4 [00:05<00:05,  2.54s/it]"
     ]
    },
    {
     "name": "stdout",
     "output_type": "stream",
     "text": [
      "************* kitchen *************\n",
      "              precision    recall  f1-score   support\n",
      "\n",
      "    negative       0.86      0.86      0.86      2991\n",
      "    positive       0.86      0.85      0.86      2954\n",
      "\n",
      "    accuracy                           0.86      5945\n",
      "   macro avg       0.86      0.86      0.86      5945\n",
      "weighted avg       0.86      0.86      0.86      5945\n",
      "\n"
     ]
    },
    {
     "name": "stderr",
     "output_type": "stream",
     "text": [
      " 75%|███████▌  | 3/4 [00:08<00:03,  3.01s/it]"
     ]
    },
    {
     "name": "stdout",
     "output_type": "stream",
     "text": [
      "************* dvd *************\n",
      "              precision    recall  f1-score   support\n",
      "\n",
      "    negative       0.85      0.80      0.82      1779\n",
      "    positive       0.81      0.86      0.84      1807\n",
      "\n",
      "    accuracy                           0.83      3586\n",
      "   macro avg       0.83      0.83      0.83      3586\n",
      "weighted avg       0.83      0.83      0.83      3586\n",
      "\n"
     ]
    },
    {
     "name": "stderr",
     "output_type": "stream",
     "text": [
      "100%|██████████| 4/4 [00:12<00:00,  3.16s/it]"
     ]
    },
    {
     "name": "stdout",
     "output_type": "stream",
     "text": [
      "************* books *************\n",
      "              precision    recall  f1-score   support\n",
      "\n",
      "    negative       0.82      0.82      0.82      2201\n",
      "    positive       0.82      0.83      0.83      2264\n",
      "\n",
      "    accuracy                           0.82      4465\n",
      "   macro avg       0.82      0.82      0.82      4465\n",
      "weighted avg       0.82      0.82      0.82      4465\n",
      "\n"
     ]
    },
    {
     "name": "stderr",
     "output_type": "stream",
     "text": [
      "\n"
     ]
    }
   ],
   "source": [
    "for cate in tqdm(train_data['folder'].unique()):\n",
    "    \n",
    "    cate_train_data = train_data[train_data['folder']==cate]\n",
    "    cate_test_data = test_data[test_data['folder']==cate]\n",
    "    \n",
    "    # Preprocess the data\n",
    "    tfidf_pipeline = build_preprocess_pipeline('tfidf').fit(cate_train_data['text'])\n",
    "    X_train_tfidf_transformed = tfidf_pipeline.transform(cate_train_data['text'])\n",
    "    \n",
    "    logistic_estimator = LogisticRegression(n_jobs=-1, random_state=42, \n",
    "                                            class_weight=None, solver='saga',\n",
    "                                            max_iter=1000, penalty='l2',\n",
    "                                            tol=1e-2, C=1\n",
    "                                            )\n",
    "\n",
    "    cate_lr = logistic_estimator.fit(X_train_tfidf_transformed, cate_train_data['label'])\n",
    "    \n",
    "    ## Test the model\n",
    "    \n",
    "    X_test_transformed_tfidf = tfidf_pipeline.transform(cate_test_data['text'])\n",
    "    y_pred = cate_lr.predict(X_test_transformed_tfidf)\n",
    "    \n",
    "    print(f'************* {cate} *************')\n",
    "    print(classification_report(cate_test_data['label'], y_pred))"
   ]
  },
  {
   "cell_type": "markdown",
   "metadata": {},
   "source": [
    "### Naive Bayes"
   ]
  },
  {
   "cell_type": "code",
   "execution_count": 7,
   "metadata": {},
   "outputs": [
    {
     "name": "stderr",
     "output_type": "stream",
     "text": [
      " 25%|██▌       | 1/4 [00:02<00:08,  2.68s/it]"
     ]
    },
    {
     "name": "stdout",
     "output_type": "stream",
     "text": [
      "************* electronics *************\n",
      "              precision    recall  f1-score   support\n",
      "\n",
      "    negative       0.84      0.84      0.84      2824\n",
      "    positive       0.84      0.84      0.84      2857\n",
      "\n",
      "    accuracy                           0.84      5681\n",
      "   macro avg       0.84      0.84      0.84      5681\n",
      "weighted avg       0.84      0.84      0.84      5681\n",
      "\n"
     ]
    },
    {
     "name": "stderr",
     "output_type": "stream",
     "text": [
      " 50%|█████     | 2/4 [00:05<00:05,  2.52s/it]"
     ]
    },
    {
     "name": "stdout",
     "output_type": "stream",
     "text": [
      "************* kitchen *************\n",
      "              precision    recall  f1-score   support\n",
      "\n",
      "    negative       0.86      0.83      0.85      2991\n",
      "    positive       0.84      0.86      0.85      2954\n",
      "\n",
      "    accuracy                           0.85      5945\n",
      "   macro avg       0.85      0.85      0.85      5945\n",
      "weighted avg       0.85      0.85      0.85      5945\n",
      "\n"
     ]
    },
    {
     "name": "stderr",
     "output_type": "stream",
     "text": [
      " 75%|███████▌  | 3/4 [00:08<00:02,  2.98s/it]"
     ]
    },
    {
     "name": "stdout",
     "output_type": "stream",
     "text": [
      "************* dvd *************\n",
      "              precision    recall  f1-score   support\n",
      "\n",
      "    negative       0.82      0.83      0.82      1779\n",
      "    positive       0.83      0.83      0.83      1807\n",
      "\n",
      "    accuracy                           0.83      3586\n",
      "   macro avg       0.83      0.83      0.83      3586\n",
      "weighted avg       0.83      0.83      0.83      3586\n",
      "\n"
     ]
    },
    {
     "name": "stderr",
     "output_type": "stream",
     "text": [
      "100%|██████████| 4/4 [00:12<00:00,  3.13s/it]"
     ]
    },
    {
     "name": "stdout",
     "output_type": "stream",
     "text": [
      "************* books *************\n",
      "              precision    recall  f1-score   support\n",
      "\n",
      "    negative       0.81      0.83      0.82      2201\n",
      "    positive       0.83      0.82      0.82      2264\n",
      "\n",
      "    accuracy                           0.82      4465\n",
      "   macro avg       0.82      0.82      0.82      4465\n",
      "weighted avg       0.82      0.82      0.82      4465\n",
      "\n"
     ]
    },
    {
     "name": "stderr",
     "output_type": "stream",
     "text": [
      "\n"
     ]
    }
   ],
   "source": [
    "for cate in tqdm(train_data['folder'].unique()):\n",
    "    \n",
    "    cate_train_data = train_data[train_data['folder']==cate]\n",
    "    cate_test_data = test_data[test_data['folder']==cate]\n",
    "    \n",
    "    tfidf_pipeline = build_preprocess_pipeline('tfidf').fit(cate_train_data['text'])\n",
    "    X_train_tfidf_transformed = tfidf_pipeline.transform(cate_train_data['text'])\n",
    "    \n",
    "    nb_estimator = MultinomialNB(alpha=1.0)\n",
    "\n",
    "    cate_nb = nb_estimator.fit(X_train_tfidf_transformed, cate_train_data['label'])\n",
    "    \n",
    "    ## Test the model\n",
    "    \n",
    "    X_test_transformed_tfidf = tfidf_pipeline.transform(cate_test_data['text'])\n",
    "    y_pred = cate_nb.predict(X_test_transformed_tfidf)\n",
    "    \n",
    "    print(f'************* {cate} *************')\n",
    "    print(classification_report(cate_test_data['label'], y_pred))"
   ]
  },
  {
   "cell_type": "markdown",
   "metadata": {},
   "source": [
    "## TF\n",
    "### Logistic Regression"
   ]
  },
  {
   "cell_type": "code",
   "execution_count": 8,
   "metadata": {},
   "outputs": [
    {
     "name": "stderr",
     "output_type": "stream",
     "text": [
      " 25%|██▌       | 1/4 [00:02<00:08,  2.79s/it]"
     ]
    },
    {
     "name": "stdout",
     "output_type": "stream",
     "text": [
      "************* electronics *************\n",
      "              precision    recall  f1-score   support\n",
      "\n",
      "    negative       0.86      0.85      0.86      2824\n",
      "    positive       0.86      0.87      0.86      2857\n",
      "\n",
      "    accuracy                           0.86      5681\n",
      "   macro avg       0.86      0.86      0.86      5681\n",
      "weighted avg       0.86      0.86      0.86      5681\n",
      "\n"
     ]
    },
    {
     "name": "stderr",
     "output_type": "stream",
     "text": [
      " 50%|█████     | 2/4 [00:05<00:05,  2.59s/it]"
     ]
    },
    {
     "name": "stdout",
     "output_type": "stream",
     "text": [
      "************* kitchen *************\n",
      "              precision    recall  f1-score   support\n",
      "\n",
      "    negative       0.86      0.85      0.86      2991\n",
      "    positive       0.85      0.86      0.86      2954\n",
      "\n",
      "    accuracy                           0.86      5945\n",
      "   macro avg       0.86      0.86      0.86      5945\n",
      "weighted avg       0.86      0.86      0.86      5945\n",
      "\n"
     ]
    },
    {
     "name": "stderr",
     "output_type": "stream",
     "text": [
      " 75%|███████▌  | 3/4 [00:08<00:03,  3.06s/it]"
     ]
    },
    {
     "name": "stdout",
     "output_type": "stream",
     "text": [
      "************* dvd *************\n",
      "              precision    recall  f1-score   support\n",
      "\n",
      "    negative       0.84      0.77      0.80      1779\n",
      "    positive       0.79      0.85      0.82      1807\n",
      "\n",
      "    accuracy                           0.81      3586\n",
      "   macro avg       0.81      0.81      0.81      3586\n",
      "weighted avg       0.81      0.81      0.81      3586\n",
      "\n"
     ]
    },
    {
     "name": "stderr",
     "output_type": "stream",
     "text": [
      "100%|██████████| 4/4 [00:13<00:00,  3.32s/it]"
     ]
    },
    {
     "name": "stdout",
     "output_type": "stream",
     "text": [
      "************* books *************\n",
      "              precision    recall  f1-score   support\n",
      "\n",
      "    negative       0.84      0.81      0.82      2201\n",
      "    positive       0.82      0.84      0.83      2264\n",
      "\n",
      "    accuracy                           0.83      4465\n",
      "   macro avg       0.83      0.83      0.83      4465\n",
      "weighted avg       0.83      0.83      0.83      4465\n",
      "\n"
     ]
    },
    {
     "name": "stderr",
     "output_type": "stream",
     "text": [
      "\n"
     ]
    }
   ],
   "source": [
    "for cate in tqdm(train_data['folder'].unique()):\n",
    "    \n",
    "    cate_train_data = train_data[train_data['folder']==cate]\n",
    "    cate_test_data = test_data[test_data['folder']==cate]\n",
    "    \n",
    "    cnt_pipeline = build_preprocess_pipeline('count').fit(cate_train_data['text'])\n",
    "    X_train_cnt_transformed = cnt_pipeline.transform(cate_train_data['text'])\n",
    "    \n",
    "    logistic_estimator = LogisticRegression(n_jobs=-1, random_state=42, \n",
    "                                            class_weight=None, solver='saga',\n",
    "                                            max_iter=1000, penalty='l2',\n",
    "                                            tol=1e-2, C=1\n",
    "                                            )\n",
    "\n",
    "    cate_lr = logistic_estimator.fit(X_train_cnt_transformed, cate_train_data['label'])\n",
    "    \n",
    "    ## Test the model\n",
    "    \n",
    "    X_test_transformed_cnt = cnt_pipeline.transform(cate_test_data['text'])\n",
    "    y_pred = cate_lr.predict(X_test_transformed_cnt)\n",
    "    \n",
    "    print(f'************* {cate} *************')\n",
    "    print(classification_report(cate_test_data['label'], y_pred))"
   ]
  },
  {
   "cell_type": "markdown",
   "metadata": {},
   "source": [
    "### Naive Bayes"
   ]
  },
  {
   "cell_type": "code",
   "execution_count": 9,
   "metadata": {},
   "outputs": [
    {
     "name": "stderr",
     "output_type": "stream",
     "text": [
      " 25%|██▌       | 1/4 [00:02<00:08,  2.97s/it]"
     ]
    },
    {
     "name": "stdout",
     "output_type": "stream",
     "text": [
      "************* electronics *************\n",
      "              precision    recall  f1-score   support\n",
      "\n",
      "    negative       0.50      0.49      0.49      2824\n",
      "    positive       0.50      0.52      0.51      2857\n",
      "\n",
      "    accuracy                           0.50      5681\n",
      "   macro avg       0.50      0.50      0.50      5681\n",
      "weighted avg       0.50      0.50      0.50      5681\n",
      "\n"
     ]
    },
    {
     "name": "stderr",
     "output_type": "stream",
     "text": [
      " 50%|█████     | 2/4 [00:05<00:05,  2.73s/it]"
     ]
    },
    {
     "name": "stdout",
     "output_type": "stream",
     "text": [
      "************* kitchen *************\n",
      "              precision    recall  f1-score   support\n",
      "\n",
      "    negative       0.49      0.48      0.49      2991\n",
      "    positive       0.49      0.51      0.50      2954\n",
      "\n",
      "    accuracy                           0.49      5945\n",
      "   macro avg       0.49      0.49      0.49      5945\n",
      "weighted avg       0.49      0.49      0.49      5945\n",
      "\n"
     ]
    },
    {
     "name": "stderr",
     "output_type": "stream",
     "text": [
      " 75%|███████▌  | 3/4 [00:09<00:03,  3.15s/it]"
     ]
    },
    {
     "name": "stdout",
     "output_type": "stream",
     "text": [
      "************* dvd *************\n",
      "              precision    recall  f1-score   support\n",
      "\n",
      "    negative       0.51      0.45      0.48      1779\n",
      "    positive       0.51      0.58      0.54      1807\n",
      "\n",
      "    accuracy                           0.51      3586\n",
      "   macro avg       0.51      0.51      0.51      3586\n",
      "weighted avg       0.51      0.51      0.51      3586\n",
      "\n"
     ]
    },
    {
     "name": "stderr",
     "output_type": "stream",
     "text": [
      "100%|██████████| 4/4 [00:13<00:00,  3.29s/it]"
     ]
    },
    {
     "name": "stdout",
     "output_type": "stream",
     "text": [
      "************* books *************\n",
      "              precision    recall  f1-score   support\n",
      "\n",
      "    negative       0.82      0.85      0.83      2201\n",
      "    positive       0.84      0.82      0.83      2264\n",
      "\n",
      "    accuracy                           0.83      4465\n",
      "   macro avg       0.83      0.83      0.83      4465\n",
      "weighted avg       0.83      0.83      0.83      4465\n",
      "\n"
     ]
    },
    {
     "name": "stderr",
     "output_type": "stream",
     "text": [
      "\n"
     ]
    }
   ],
   "source": [
    "for cate in tqdm(train_data['folder'].unique()):\n",
    "    \n",
    "    cate_train_data = train_data[train_data['folder']==cate]\n",
    "    cate_test_data = test_data[test_data['folder']==cate]\n",
    "    \n",
    "    cnt_pipeline = build_preprocess_pipeline('count').fit(cate_train_data['text'])\n",
    "    X_train_cnt_transformed = cnt_pipeline.transform(cate_train_data['text'])\n",
    "    \n",
    "    nb_estimator = MultinomialNB(alpha=1.0)\n",
    "\n",
    "    cate_nb = nb_estimator.fit(X_train_tfidf_transformed, cate_train_data['label'])\n",
    "    \n",
    "    ## Test the model\n",
    "    \n",
    "    X_test_transformed_cnt = cnt_pipeline.transform(cate_test_data['text'])\n",
    "    y_pred = cate_nb.predict(X_test_transformed_cnt)\n",
    "    \n",
    "    print(f'************* {cate} *************')\n",
    "    print(classification_report(cate_test_data['label'], y_pred))"
   ]
  },
  {
   "cell_type": "markdown",
   "metadata": {},
   "source": [
    "## Lexicons"
   ]
  },
  {
   "cell_type": "code",
   "execution_count": null,
   "metadata": {},
   "outputs": [],
   "source": []
  },
  {
   "cell_type": "markdown",
   "metadata": {},
   "source": [
    "# Classifier for all categories"
   ]
  },
  {
   "cell_type": "markdown",
   "metadata": {},
   "source": [
    "### Preprocessing"
   ]
  },
  {
   "cell_type": "code",
   "execution_count": 10,
   "metadata": {},
   "outputs": [],
   "source": [
    "tfidf_pipeline = build_preprocess_pipeline('tfidf').fit(train_data['text'])\n",
    "X_train_tfidf_transformed = tfidf_pipeline.transform(train_data['text'])\n",
    "\n",
    "cnt_pipeline = build_preprocess_pipeline('count').fit(train_data['text'])\n",
    "X_train_cnt_transformed = cnt_pipeline.transform(train_data['text'])"
   ]
  },
  {
   "cell_type": "markdown",
   "metadata": {},
   "source": [
    "## TF - IDF\n",
    "### Logistic Regression"
   ]
  },
  {
   "cell_type": "code",
   "execution_count": 11,
   "metadata": {},
   "outputs": [
    {
     "name": "stdout",
     "output_type": "stream",
     "text": [
      "              precision    recall  f1-score   support\n",
      "\n",
      "    negative       0.85      0.85      0.85      9795\n",
      "    positive       0.85      0.86      0.85      9882\n",
      "\n",
      "    accuracy                           0.85     19677\n",
      "   macro avg       0.85      0.85      0.85     19677\n",
      "weighted avg       0.85      0.85      0.85     19677\n",
      "\n"
     ]
    }
   ],
   "source": [
    "logistic_estimator = LogisticRegression(n_jobs=-1, random_state=42, \n",
    "                                        class_weight=None, solver='saga',\n",
    "                                        max_iter=1000, penalty='l2',\n",
    "                                        tol=1e-2, C=1\n",
    "                                        )\n",
    "\n",
    "cate_lr = logistic_estimator.fit(X_train_tfidf_transformed, train_data['label'])\n",
    "\n",
    "## Test the model\n",
    "X_test_transformed_tfidf = tfidf_pipeline.transform(test_data['text'])\n",
    "y_pred = cate_lr.predict(X_test_transformed_tfidf)\n",
    "\n",
    "print(classification_report(test_data['label'], y_pred))"
   ]
  },
  {
   "cell_type": "markdown",
   "metadata": {},
   "source": [
    "### Naive Bayes"
   ]
  },
  {
   "cell_type": "code",
   "execution_count": 12,
   "metadata": {},
   "outputs": [
    {
     "name": "stdout",
     "output_type": "stream",
     "text": [
      "              precision    recall  f1-score   support\n",
      "\n",
      "    negative       0.85      0.85      0.85      9795\n",
      "    positive       0.85      0.86      0.85      9882\n",
      "\n",
      "    accuracy                           0.85     19677\n",
      "   macro avg       0.85      0.85      0.85     19677\n",
      "weighted avg       0.85      0.85      0.85     19677\n",
      "\n"
     ]
    }
   ],
   "source": [
    "nb_estimator = MultinomialNB(alpha=1.0)\n",
    "\n",
    "cate_nb = nb_estimator.fit(X_train_tfidf_transformed, train_data['label'])\n",
    "\n",
    "## Test the model\n",
    "y_pred = cate_lr.predict(X_test_transformed_tfidf)\n",
    "\n",
    "print(classification_report(test_data['label'], y_pred))"
   ]
  },
  {
   "cell_type": "markdown",
   "metadata": {},
   "source": [
    "## TF\n",
    "### Logistic Regression"
   ]
  },
  {
   "cell_type": "code",
   "execution_count": 13,
   "metadata": {},
   "outputs": [
    {
     "name": "stdout",
     "output_type": "stream",
     "text": [
      "              precision    recall  f1-score   support\n",
      "\n",
      "    negative       0.86      0.84      0.85      9795\n",
      "    positive       0.84      0.86      0.85      9882\n",
      "\n",
      "    accuracy                           0.85     19677\n",
      "   macro avg       0.85      0.85      0.85     19677\n",
      "weighted avg       0.85      0.85      0.85     19677\n",
      "\n"
     ]
    }
   ],
   "source": [
    "logistic_estimator = LogisticRegression(n_jobs=-1, random_state=42, \n",
    "                                        class_weight=None, solver='saga',\n",
    "                                        max_iter=1000, penalty='l2',\n",
    "                                        tol=1e-2, C=1\n",
    "                                        )\n",
    "\n",
    "cate_lr = logistic_estimator.fit(X_train_cnt_transformed, train_data['label'])\n",
    "\n",
    "## Test the model\n",
    "X_test_transformed_cnt = cnt_pipeline.transform(test_data['text'])\n",
    "y_pred = cate_lr.predict(X_test_transformed_cnt)\n",
    "\n",
    "print(classification_report(test_data['label'], y_pred))"
   ]
  },
  {
   "cell_type": "markdown",
   "metadata": {},
   "source": [
    "### Naive Bayes"
   ]
  },
  {
   "cell_type": "code",
   "execution_count": 14,
   "metadata": {},
   "outputs": [
    {
     "name": "stdout",
     "output_type": "stream",
     "text": [
      "              precision    recall  f1-score   support\n",
      "\n",
      "    negative       0.82      0.83      0.82      9795\n",
      "    positive       0.83      0.83      0.83      9882\n",
      "\n",
      "    accuracy                           0.83     19677\n",
      "   macro avg       0.83      0.83      0.83     19677\n",
      "weighted avg       0.83      0.83      0.83     19677\n",
      "\n"
     ]
    }
   ],
   "source": [
    "logistic_estimator = MultinomialNB(alpha=1.0)\n",
    "\n",
    "cate_lr = logistic_estimator.fit(X_train_cnt_transformed, train_data['label'])\n",
    "\n",
    "## Test the model\n",
    "y_pred = cate_lr.predict(X_test_transformed_cnt)\n",
    "\n",
    "print(classification_report(test_data['label'], y_pred))"
   ]
  },
  {
   "cell_type": "markdown",
   "metadata": {},
   "source": [
    "## Lexicons"
   ]
  }
 ],
 "metadata": {
  "kernelspec": {
   "display_name": ".venv",
   "language": "python",
   "name": "python3"
  },
  "language_info": {
   "codemirror_mode": {
    "name": "ipython",
    "version": 3
   },
   "file_extension": ".py",
   "mimetype": "text/x-python",
   "name": "python",
   "nbconvert_exporter": "python",
   "pygments_lexer": "ipython3",
   "version": "3.12.3"
  }
 },
 "nbformat": 4,
 "nbformat_minor": 2
}
