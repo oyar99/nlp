{
 "cells": [
  {
   "cell_type": "markdown",
   "metadata": {},
   "source": [
    "## 20N - Dataset - Modelos Naive Bayes y Logistic Regression\n",
    "\n",
    "Este notebook contiene el procesamiento, entrenamiento y evaluacion de modelos de clasificacion de Naive Bayes y Logistic Regression entrenados a partir del conjunto de datos 20N que contiene 20 categorias diferentes de articulos de noticias."
   ]
  },
  {
   "cell_type": "markdown",
   "metadata": {},
   "source": [
    "## 1. Importar librerias"
   ]
  },
  {
   "cell_type": "code",
   "execution_count": 1,
   "metadata": {},
   "outputs": [],
   "source": [
    "from glob import glob\n",
    "from functions import read_file, build_preprocess_pipeline\n",
    "from pandas import DataFrame\n",
    "\n",
    "from sklearn.model_selection import train_test_split\n",
    "from sklearn.metrics import classification_report\n",
    "\n",
    "from sklearn.naive_bayes import MultinomialNB\n",
    "from sklearn.linear_model import LogisticRegression\n",
    "from sklearn.model_selection import StratifiedShuffleSplit, GridSearchCV\n",
    "from sklearn.pipeline import Pipeline"
   ]
  },
  {
   "cell_type": "markdown",
   "metadata": {},
   "source": [
    "## 2. Cargar datos"
   ]
  },
  {
   "cell_type": "code",
   "execution_count": 2,
   "metadata": {},
   "outputs": [
    {
     "name": "stdout",
     "output_type": "stream",
     "text": [
      "Total topics (classes):  20\n",
      "Total files:  18828\n"
     ]
    },
    {
     "data": {
      "text/plain": [
       "topics\n",
       "20news-18828\\rec.sport.hockey            999\n",
       "20news-18828\\soc.religion.christian      997\n",
       "20news-18828\\rec.sport.baseball          994\n",
       "20news-18828\\rec.motorcycles             994\n",
       "20news-18828\\sci.crypt                   991\n",
       "20news-18828\\rec.autos                   990\n",
       "20news-18828\\sci.med                     990\n",
       "20news-18828\\sci.space                   987\n",
       "20news-18828\\comp.os.ms-windows.misc     985\n",
       "20news-18828\\comp.sys.ibm.pc.hardware    982\n",
       "20news-18828\\sci.electronics             981\n",
       "20news-18828\\comp.windows.x              980\n",
       "20news-18828\\comp.graphics               973\n",
       "20news-18828\\misc.forsale                972\n",
       "20news-18828\\comp.sys.mac.hardware       961\n",
       "20news-18828\\talk.politics.mideast       940\n",
       "20news-18828\\talk.politics.guns          910\n",
       "20news-18828\\alt.atheism                 799\n",
       "20news-18828\\talk.politics.misc          775\n",
       "20news-18828\\talk.religion.misc          628\n",
       "Name: count, dtype: int64"
      ]
     },
     "execution_count": 2,
     "metadata": {},
     "output_type": "execute_result"
    }
   ],
   "source": [
    "cates_dir = glob('data/20news-18828/*') # Directorio donde se almacenan los datos - Cambiar si es necesario\n",
    "\n",
    "topics_path = {c.split('/')[-1]: glob(f'{c}/*') for c in cates_dir}\n",
    "\n",
    "# La estructura de los datos indica la clase a la que pertenece cada articulo\n",
    "print(\"Total topics (classes): \", len(topics_path)) \n",
    "\n",
    "df = DataFrame([(k, v) for k, v in topics_path.items()], columns=['topics', 'files'])\n",
    "\n",
    "df = df.explode('files')\n",
    "\n",
    "print(\"Total files: \", len(df))\n",
    "\n",
    "df['text'] = df['files'].apply(read_file)\n",
    "\n",
    "# Se observa que no hay mucho desbalanceo de clases\n",
    "df.value_counts('topics')"
   ]
  },
  {
   "cell_type": "markdown",
   "metadata": {},
   "source": [
    "## 3. Preprocesamiento"
   ]
  },
  {
   "cell_type": "code",
   "execution_count": 3,
   "metadata": {},
   "outputs": [
    {
     "name": "stdout",
     "output_type": "stream",
     "text": [
      "Train:  13179\n",
      "Test:  5649\n"
     ]
    }
   ],
   "source": [
    "# Conjunto de entrenamiento y prueba\n",
    "x_train, x_test, y_train, y_test = train_test_split(df['text'], df['topics'], \n",
    "                                                    train_size=0.7, random_state=42)\n",
    "\n",
    "print(\"Train: \", len(x_train))\n",
    "print(\"Test: \", len(x_test))"
   ]
  },
  {
   "cell_type": "code",
   "execution_count": 4,
   "metadata": {},
   "outputs": [],
   "source": [
    "# Crea el pipeline usando dos vectorizaciones diferentes (tf y tfidf)\n",
    "cnt_pipeline = build_preprocess_pipeline('count').fit(x_train)\n",
    "tfidf_pipeline = build_preprocess_pipeline('tfidf').fit(x_train)"
   ]
  },
  {
   "cell_type": "code",
   "execution_count": 5,
   "metadata": {},
   "outputs": [],
   "source": [
    "# Se utiliza para hacer cross-validation usando 10 folds\n",
    "# Ver https://scikit-learn.org/stable/modules/cross_validation.html\n",
    "cv = StratifiedShuffleSplit(n_splits=10, random_state=42, \n",
    "                            test_size=1/7) # Validacion es cerca del 10% del dataset original"
   ]
  },
  {
   "cell_type": "code",
   "execution_count": 6,
   "metadata": {},
   "outputs": [],
   "source": [
    "# Ejecuta el preprocesamiento para generar los vectores de entrada de los modelos\n",
    "X_train_tfidf_transformed = tfidf_pipeline.transform(x_train)\n",
    "X_train_cnt_transformed = cnt_pipeline.transform(x_train)"
   ]
  },
  {
   "cell_type": "markdown",
   "metadata": {},
   "source": [
    "## 4.0 Modelos TF - IDF"
   ]
  },
  {
   "cell_type": "markdown",
   "metadata": {},
   "source": [
    "#### Regresión Logística "
   ]
  },
  {
   "cell_type": "code",
   "execution_count": 7,
   "metadata": {},
   "outputs": [
    {
     "data": {
      "text/plain": [
       "{'mean_fit_time': array([5.03403425, 6.28133607]),\n",
       " 'std_fit_time': array([0.54272684, 1.05229602]),\n",
       " 'mean_score_time': array([0.06741891, 0.04984288]),\n",
       " 'std_score_time': array([0.03131618, 0.01892294]),\n",
       " 'param_C': masked_array(data=[1, 10],\n",
       "              mask=[False, False],\n",
       "        fill_value=999999),\n",
       " 'params': [{'C': 1}, {'C': 10}],\n",
       " 'split0_test_score': array([0.8862346 , 0.89944589]),\n",
       " 'split1_test_score': array([0.88497246, 0.89965614]),\n",
       " 'split2_test_score': array([0.87082913, 0.89151214]),\n",
       " 'split3_test_score': array([0.88603784, 0.90479766]),\n",
       " 'split4_test_score': array([0.87324393, 0.89457976]),\n",
       " 'split5_test_score': array([0.88328331, 0.90944104]),\n",
       " 'split6_test_score': array([0.87003422, 0.89189012]),\n",
       " 'split7_test_score': array([0.87826901, 0.89497397]),\n",
       " 'split8_test_score': array([0.88490615, 0.90367546]),\n",
       " 'split9_test_score': array([0.88438184, 0.9020709 ]),\n",
       " 'mean_test_score': array([0.88021925, 0.89920431]),\n",
       " 'std_test_score': array([0.00621035, 0.0056258 ]),\n",
       " 'rank_test_score': array([2, 1])}"
      ]
     },
     "execution_count": 7,
     "metadata": {},
     "output_type": "execute_result"
    }
   ],
   "source": [
    "# Entrenar un clasificador usando regresion logistica\n",
    "logistic_estimator = LogisticRegression(n_jobs=-1, random_state=42, \n",
    "                                        class_weight='balanced', solver='saga',\n",
    "                                        max_iter=1000, penalty='l2',\n",
    "                                        tol=1e-2,\n",
    "                                        )\n",
    "# Busqueda de hiperparametros\n",
    "logistic_param_grid = {\n",
    "    'C': [1, 10],\n",
    "}\n",
    "\n",
    "# Se usa un GridSearchCV para la busqueda de hiperparametros (C - inverso de la regularizacion)\n",
    "grid_search_best_tfidf_lr_estimator = GridSearchCV(\n",
    "    estimator=logistic_estimator,\n",
    "    param_grid=logistic_param_grid,\n",
    "    cv=cv,\n",
    "    scoring='f1_macro',\n",
    "    n_jobs=-1,\n",
    "    return_train_score=False,\n",
    "    refit=True\n",
    ").fit(X_train_tfidf_transformed, y_train)\n",
    "\n",
    "grid_search_best_tfidf_lr_estimator.cv_results_"
   ]
  },
  {
   "cell_type": "code",
   "execution_count": 8,
   "metadata": {},
   "outputs": [
    {
     "name": "stdout",
     "output_type": "stream",
     "text": [
      "                                       precision    recall  f1-score   support\n",
      "\n",
      "             20news-18828\\alt.atheism       0.90      0.88      0.89       220\n",
      "           20news-18828\\comp.graphics       0.83      0.84      0.84       303\n",
      " 20news-18828\\comp.os.ms-windows.misc       0.82      0.87      0.85       280\n",
      "20news-18828\\comp.sys.ibm.pc.hardware       0.78      0.80      0.79       286\n",
      "   20news-18828\\comp.sys.mac.hardware       0.91      0.87      0.89       275\n",
      "          20news-18828\\comp.windows.x       0.88      0.86      0.87       300\n",
      "            20news-18828\\misc.forsale       0.82      0.88      0.85       287\n",
      "               20news-18828\\rec.autos       0.92      0.92      0.92       302\n",
      "         20news-18828\\rec.motorcycles       0.98      0.95      0.97       317\n",
      "      20news-18828\\rec.sport.baseball       0.94      0.93      0.94       300\n",
      "        20news-18828\\rec.sport.hockey       0.96      0.96      0.96       297\n",
      "               20news-18828\\sci.crypt       0.97      0.94      0.95       297\n",
      "         20news-18828\\sci.electronics       0.86      0.87      0.87       318\n",
      "                 20news-18828\\sci.med       0.92      0.92      0.92       295\n",
      "               20news-18828\\sci.space       0.97      0.95      0.96       291\n",
      "  20news-18828\\soc.religion.christian       0.92      0.93      0.93       332\n",
      "      20news-18828\\talk.politics.guns       0.94      0.94      0.94       252\n",
      "   20news-18828\\talk.politics.mideast       0.98      0.97      0.97       294\n",
      "      20news-18828\\talk.politics.misc       0.88      0.90      0.89       221\n",
      "      20news-18828\\talk.religion.misc       0.87      0.80      0.84       182\n",
      "\n",
      "                             accuracy                           0.90      5649\n",
      "                            macro avg       0.90      0.90      0.90      5649\n",
      "                         weighted avg       0.90      0.90      0.90      5649\n",
      "\n"
     ]
    }
   ],
   "source": [
    "# Evaluar el modelo usando el conjunto de prueba\n",
    "X_test_transformed_tfidf = tfidf_pipeline.transform(x_test)\n",
    "y_pred = grid_search_best_tfidf_lr_estimator.predict(X_test_transformed_tfidf)\n",
    "print(classification_report(y_test, y_pred))"
   ]
  },
  {
   "cell_type": "markdown",
   "metadata": {},
   "source": [
    "Se observa una buena precision y recall para la mayoria de clases mayor al 80%. Teniendo la mayor dificultad para clasificar `comp.sys.ibm.pc.hardware` "
   ]
  },
  {
   "cell_type": "markdown",
   "metadata": {},
   "source": [
    "#### Naive Bayes"
   ]
  },
  {
   "cell_type": "code",
   "execution_count": 9,
   "metadata": {},
   "outputs": [
    {
     "data": {
      "text/plain": [
       "{'mean_fit_time': array([0.15810995, 0.15114057, 0.16162992]),\n",
       " 'std_fit_time': array([0.01629736, 0.0134238 , 0.01140076]),\n",
       " 'mean_score_time': array([0.03784821, 0.04039466, 0.04132943]),\n",
       " 'std_score_time': array([0.00349535, 0.00542403, 0.00787505]),\n",
       " 'param_alpha': masked_array(data=[0.01, 0.1, 1.0],\n",
       "              mask=[False, False, False],\n",
       "        fill_value=1e+20),\n",
       " 'params': [{'alpha': 0.01}, {'alpha': 0.1}, {'alpha': 1}],\n",
       " 'split0_test_score': array([0.89184862, 0.88557447, 0.86684112]),\n",
       " 'split1_test_score': array([0.89199304, 0.88576377, 0.85274573]),\n",
       " 'split2_test_score': array([0.88793753, 0.88714995, 0.84367105]),\n",
       " 'split3_test_score': array([0.88342205, 0.88106166, 0.86128463]),\n",
       " 'split4_test_score': array([0.89438796, 0.89554142, 0.85899888]),\n",
       " 'split5_test_score': array([0.8961432 , 0.89240712, 0.86818379]),\n",
       " 'split6_test_score': array([0.88042153, 0.88263514, 0.85373031]),\n",
       " 'split7_test_score': array([0.89472547, 0.88768814, 0.85013738]),\n",
       " 'split8_test_score': array([0.88646434, 0.88551278, 0.85321007]),\n",
       " 'split9_test_score': array([0.88780883, 0.88181311, 0.85479434]),\n",
       " 'mean_test_score': array([0.88951526, 0.88651476, 0.85635973]),\n",
       " 'std_test_score': array([0.00490852, 0.00432812, 0.00716208]),\n",
       " 'rank_test_score': array([1, 2, 3])}"
      ]
     },
     "execution_count": 9,
     "metadata": {},
     "output_type": "execute_result"
    }
   ],
   "source": [
    "# Clasificador multinomial de Naive Bayes\n",
    "nb_estimator = MultinomialNB()\n",
    "\n",
    "# Busqueda de hiperparametros\n",
    "nb_param_grid = {\n",
    "    'alpha': [0.01, 0.1, 1],\n",
    "}\n",
    "\n",
    "grid_search_best_tfidf_nb_estimator = GridSearchCV(\n",
    "    estimator=nb_estimator,\n",
    "    param_grid=nb_param_grid,\n",
    "    cv=cv,\n",
    "    scoring='f1_macro',\n",
    "    n_jobs=-1,\n",
    "    return_train_score=False,\n",
    "    refit=True\n",
    ").fit(X_train_tfidf_transformed, y_train)\n",
    "\n",
    "grid_search_best_tfidf_nb_estimator.cv_results_"
   ]
  },
  {
   "cell_type": "code",
   "execution_count": 10,
   "metadata": {},
   "outputs": [
    {
     "name": "stdout",
     "output_type": "stream",
     "text": [
      "                                       precision    recall  f1-score   support\n",
      "\n",
      "             20news-18828\\alt.atheism       0.86      0.90      0.88       220\n",
      "           20news-18828\\comp.graphics       0.79      0.84      0.82       303\n",
      " 20news-18828\\comp.os.ms-windows.misc       0.79      0.81      0.80       280\n",
      "20news-18828\\comp.sys.ibm.pc.hardware       0.76      0.79      0.78       286\n",
      "   20news-18828\\comp.sys.mac.hardware       0.87      0.88      0.88       275\n",
      "          20news-18828\\comp.windows.x       0.86      0.85      0.86       300\n",
      "            20news-18828\\misc.forsale       0.82      0.84      0.83       287\n",
      "               20news-18828\\rec.autos       0.92      0.91      0.91       302\n",
      "         20news-18828\\rec.motorcycles       0.95      0.95      0.95       317\n",
      "      20news-18828\\rec.sport.baseball       0.96      0.94      0.95       300\n",
      "        20news-18828\\rec.sport.hockey       0.96      0.96      0.96       297\n",
      "               20news-18828\\sci.crypt       0.97      0.93      0.95       297\n",
      "         20news-18828\\sci.electronics       0.88      0.86      0.87       318\n",
      "                 20news-18828\\sci.med       0.96      0.93      0.94       295\n",
      "               20news-18828\\sci.space       0.93      0.93      0.93       291\n",
      "  20news-18828\\soc.religion.christian       0.91      0.95      0.93       332\n",
      "      20news-18828\\talk.politics.guns       0.90      0.96      0.93       252\n",
      "   20news-18828\\talk.politics.mideast       0.96      0.98      0.97       294\n",
      "      20news-18828\\talk.politics.misc       0.89      0.89      0.89       221\n",
      "      20news-18828\\talk.religion.misc       0.93      0.67      0.78       182\n",
      "\n",
      "                             accuracy                           0.89      5649\n",
      "                            macro avg       0.89      0.89      0.89      5649\n",
      "                         weighted avg       0.89      0.89      0.89      5649\n",
      "\n"
     ]
    }
   ],
   "source": [
    "# Evaluar el modelo con el conjunto de pruebas\n",
    "y_pred = grid_search_best_tfidf_nb_estimator.predict(X_test_transformed_tfidf)\n",
    "print(classification_report(y_test, y_pred))"
   ]
  },
  {
   "cell_type": "markdown",
   "metadata": {},
   "source": [
    "Se obtiene un modelo ligeramente peor pues el accuracy global es menor `0.89`, y se observa mayor dificultad para recuperar varias clases como `20news-18828\\talk.religion.misc` con un recall de `0.67`. Valores que no se observaban con el modelo de regresion logistica."
   ]
  },
  {
   "cell_type": "markdown",
   "metadata": {},
   "source": [
    "## 5.0 Modelos Tf"
   ]
  },
  {
   "cell_type": "markdown",
   "metadata": {},
   "source": [
    "#### Regresión Logística "
   ]
  },
  {
   "cell_type": "code",
   "execution_count": 11,
   "metadata": {},
   "outputs": [
    {
     "data": {
      "text/plain": [
       "{'mean_fit_time': array([20.13087564, 21.2608979 ]),\n",
       " 'std_fit_time': array([1.62307125, 1.19520256]),\n",
       " 'mean_score_time': array([0.05210958, 0.05029557]),\n",
       " 'std_score_time': array([0.00648786, 0.01122549]),\n",
       " 'param_C': masked_array(data=[1, 10],\n",
       "              mask=[False, False],\n",
       "        fill_value=999999),\n",
       " 'params': [{'C': 1}, {'C': 10}],\n",
       " 'split0_test_score': array([0.83018866, 0.8356691 ]),\n",
       " 'split1_test_score': array([0.83429819, 0.83732594]),\n",
       " 'split2_test_score': array([0.82859833, 0.83082365]),\n",
       " 'split3_test_score': array([0.83313852, 0.83758565]),\n",
       " 'split4_test_score': array([0.83239731, 0.83553954]),\n",
       " 'split5_test_score': array([0.83469407, 0.83935271]),\n",
       " 'split6_test_score': array([0.81415871, 0.8197063 ]),\n",
       " 'split7_test_score': array([0.82660366, 0.83136315]),\n",
       " 'split8_test_score': array([0.82915861, 0.83149625]),\n",
       " 'split9_test_score': array([0.8365562 , 0.84058577]),\n",
       " 'mean_test_score': array([0.82997923, 0.8339448 ]),\n",
       " 'std_test_score': array([0.00603552, 0.00573314]),\n",
       " 'rank_test_score': array([2, 1])}"
      ]
     },
     "execution_count": 11,
     "metadata": {},
     "output_type": "execute_result"
    }
   ],
   "source": [
    "# Clasificador usando regresion logistica usando las frecuencias de los terminos como entrada al modelo\n",
    "grid_search_best_cnt_lr_estimator = GridSearchCV(\n",
    "    estimator=logistic_estimator,\n",
    "    param_grid=logistic_param_grid,\n",
    "    cv=cv,\n",
    "    scoring='f1_macro',\n",
    "    n_jobs=-1,\n",
    "    return_train_score=False,\n",
    "    refit=True\n",
    ").fit(X_train_cnt_transformed, y_train)\n",
    "\n",
    "grid_search_best_cnt_lr_estimator.cv_results_"
   ]
  },
  {
   "cell_type": "code",
   "execution_count": 12,
   "metadata": {},
   "outputs": [
    {
     "name": "stdout",
     "output_type": "stream",
     "text": [
      "                                       precision    recall  f1-score   support\n",
      "\n",
      "             20news-18828\\alt.atheism       0.88      0.86      0.87       220\n",
      "           20news-18828\\comp.graphics       0.57      0.71      0.63       303\n",
      " 20news-18828\\comp.os.ms-windows.misc       0.77      0.79      0.78       280\n",
      "20news-18828\\comp.sys.ibm.pc.hardware       0.71      0.70      0.70       286\n",
      "   20news-18828\\comp.sys.mac.hardware       0.80      0.79      0.80       275\n",
      "          20news-18828\\comp.windows.x       0.70      0.75      0.72       300\n",
      "            20news-18828\\misc.forsale       0.69      0.91      0.78       287\n",
      "               20news-18828\\rec.autos       0.88      0.85      0.87       302\n",
      "         20news-18828\\rec.motorcycles       0.88      0.92      0.90       317\n",
      "      20news-18828\\rec.sport.baseball       0.89      0.88      0.89       300\n",
      "        20news-18828\\rec.sport.hockey       0.97      0.94      0.95       297\n",
      "               20news-18828\\sci.crypt       0.97      0.88      0.92       297\n",
      "         20news-18828\\sci.electronics       0.82      0.74      0.78       318\n",
      "                 20news-18828\\sci.med       0.89      0.84      0.86       295\n",
      "               20news-18828\\sci.space       0.90      0.83      0.86       291\n",
      "  20news-18828\\soc.religion.christian       0.89      0.88      0.89       332\n",
      "      20news-18828\\talk.politics.guns       0.91      0.88      0.90       252\n",
      "   20news-18828\\talk.politics.mideast       0.98      0.89      0.93       294\n",
      "      20news-18828\\talk.politics.misc       0.90      0.84      0.87       221\n",
      "      20news-18828\\talk.religion.misc       0.85      0.70      0.77       182\n",
      "\n",
      "                             accuracy                           0.83      5649\n",
      "                            macro avg       0.84      0.83      0.83      5649\n",
      "                         weighted avg       0.84      0.83      0.83      5649\n",
      "\n"
     ]
    }
   ],
   "source": [
    "# Evaluar el modelo\n",
    "X_test_transformed_cnt = cnt_pipeline.transform(x_test)\n",
    "y_pred = grid_search_best_cnt_lr_estimator.predict(X_test_transformed_cnt)\n",
    "print(classification_report(y_test, y_pred))"
   ]
  },
  {
   "cell_type": "markdown",
   "metadata": {},
   "source": [
    "Se obtiene un resultado decente, pero claramente con menor rendimiento que el mismo modelo pero usando una representacion diferente de los datos"
   ]
  },
  {
   "cell_type": "markdown",
   "metadata": {},
   "source": [
    "#### Naive Bayes"
   ]
  },
  {
   "cell_type": "code",
   "execution_count": 13,
   "metadata": {},
   "outputs": [
    {
     "data": {
      "text/plain": [
       "{'mean_fit_time': array([0.1663542 , 0.1699923 , 0.14066293]),\n",
       " 'std_fit_time': array([0.02165891, 0.0341979 , 0.01088923]),\n",
       " 'mean_score_time': array([0.04326825, 0.04706988, 0.03491297]),\n",
       " 'std_score_time': array([0.00944919, 0.01133113, 0.00447589]),\n",
       " 'param_alpha': masked_array(data=[0.01, 0.1, 1.0],\n",
       "              mask=[False, False, False],\n",
       "        fill_value=1e+20),\n",
       " 'params': [{'alpha': 0.01}, {'alpha': 0.1}, {'alpha': 1}],\n",
       " 'split0_test_score': array([0.82596001, 0.84655526, 0.83167098]),\n",
       " 'split1_test_score': array([0.83776982, 0.84333162, 0.8376375 ]),\n",
       " 'split2_test_score': array([0.83462112, 0.83514511, 0.82215158]),\n",
       " 'split3_test_score': array([0.83636907, 0.83453099, 0.82466715]),\n",
       " 'split4_test_score': array([0.83395827, 0.83684251, 0.81838189]),\n",
       " 'split5_test_score': array([0.83578677, 0.84402088, 0.83207091]),\n",
       " 'split6_test_score': array([0.81588106, 0.82154142, 0.80862033]),\n",
       " 'split7_test_score': array([0.84196559, 0.8506871 , 0.82780732]),\n",
       " 'split8_test_score': array([0.83056159, 0.84132193, 0.82058047]),\n",
       " 'split9_test_score': array([0.82900222, 0.83407899, 0.82636045]),\n",
       " 'mean_test_score': array([0.83218755, 0.83880558, 0.82499486]),\n",
       " 'std_test_score': array([0.00695516, 0.00781768, 0.00777037]),\n",
       " 'rank_test_score': array([2, 1, 3])}"
      ]
     },
     "execution_count": 13,
     "metadata": {},
     "output_type": "execute_result"
    }
   ],
   "source": [
    "# Clasificador usando Naive Bayes\n",
    "grid_search_best_cnt_nb_estimator = GridSearchCV(\n",
    "    estimator=nb_estimator,\n",
    "    param_grid=nb_param_grid,\n",
    "    cv=cv,\n",
    "    scoring='f1_macro',\n",
    "    n_jobs=-1,\n",
    "    return_train_score=False,\n",
    "    refit=True\n",
    ").fit(X_train_cnt_transformed, y_train)\n",
    "\n",
    "grid_search_best_cnt_nb_estimator.cv_results_"
   ]
  },
  {
   "cell_type": "code",
   "execution_count": 14,
   "metadata": {},
   "outputs": [
    {
     "name": "stdout",
     "output_type": "stream",
     "text": [
      "                                       precision    recall  f1-score   support\n",
      "\n",
      "             20news-18828\\alt.atheism       0.83      0.86      0.84       220\n",
      "           20news-18828\\comp.graphics       0.66      0.75      0.70       303\n",
      " 20news-18828\\comp.os.ms-windows.misc       0.80      0.62      0.70       280\n",
      "20news-18828\\comp.sys.ibm.pc.hardware       0.65      0.76      0.70       286\n",
      "   20news-18828\\comp.sys.mac.hardware       0.77      0.82      0.79       275\n",
      "          20news-18828\\comp.windows.x       0.80      0.77      0.79       300\n",
      "            20news-18828\\misc.forsale       0.79      0.79      0.79       287\n",
      "               20news-18828\\rec.autos       0.82      0.86      0.84       302\n",
      "         20news-18828\\rec.motorcycles       0.86      0.92      0.89       317\n",
      "      20news-18828\\rec.sport.baseball       0.94      0.89      0.91       300\n",
      "        20news-18828\\rec.sport.hockey       0.95      0.94      0.94       297\n",
      "               20news-18828\\sci.crypt       0.94      0.89      0.91       297\n",
      "         20news-18828\\sci.electronics       0.76      0.78      0.77       318\n",
      "                 20news-18828\\sci.med       0.91      0.85      0.88       295\n",
      "               20news-18828\\sci.space       0.90      0.86      0.88       291\n",
      "  20news-18828\\soc.religion.christian       0.88      0.91      0.89       332\n",
      "      20news-18828\\talk.politics.guns       0.91      0.91      0.91       252\n",
      "   20news-18828\\talk.politics.mideast       0.96      0.91      0.93       294\n",
      "      20news-18828\\talk.politics.misc       0.86      0.88      0.87       221\n",
      "      20news-18828\\talk.religion.misc       0.81      0.67      0.73       182\n",
      "\n",
      "                             accuracy                           0.84      5649\n",
      "                            macro avg       0.84      0.83      0.83      5649\n",
      "                         weighted avg       0.84      0.84      0.84      5649\n",
      "\n"
     ]
    }
   ],
   "source": [
    "# Evaluar el modelo\n",
    "y_pred = grid_search_best_cnt_nb_estimator.predict(X_test_transformed_cnt)\n",
    "print(classification_report(y_test, y_pred))"
   ]
  },
  {
   "cell_type": "markdown",
   "metadata": {},
   "source": [
    "Se obtiene un modelo muy similar al anterior, donde aun se refleja menor rendimiento que los modelos basados en `tf-idf`"
   ]
  },
  {
   "cell_type": "markdown",
   "metadata": {},
   "source": [
    "### Best Model"
   ]
  },
  {
   "cell_type": "markdown",
   "metadata": {},
   "source": [
    "Como se observo el mejor modelo resulta de usar `tf-idf` y regresion logistica."
   ]
  },
  {
   "cell_type": "code",
   "execution_count": 15,
   "metadata": {},
   "outputs": [],
   "source": [
    "best_model_pipeline = Pipeline([\n",
    "                            ('preprocess', tfidf_pipeline),\n",
    "                            ('classifier', grid_search_best_tfidf_lr_estimator)\n",
    "                        ])"
   ]
  },
  {
   "cell_type": "code",
   "execution_count": 16,
   "metadata": {},
   "outputs": [
    {
     "data": {
      "text/plain": [
       "array(['20news-18828\\\\sci.med'], dtype=object)"
      ]
     },
     "execution_count": 16,
     "metadata": {},
     "output_type": "execute_result"
    }
   ],
   "source": [
    "best_model_pipeline.predict(['hi! I suffer very painful stomach pains'])"
   ]
  },
  {
   "cell_type": "code",
   "execution_count": 17,
   "metadata": {},
   "outputs": [
    {
     "name": "stdout",
     "output_type": "stream",
     "text": [
      "                                       precision    recall  f1-score   support\n",
      "\n",
      "             20news-18828\\alt.atheism       0.90      0.88      0.89       220\n",
      "           20news-18828\\comp.graphics       0.83      0.84      0.84       303\n",
      " 20news-18828\\comp.os.ms-windows.misc       0.82      0.87      0.85       280\n",
      "20news-18828\\comp.sys.ibm.pc.hardware       0.78      0.80      0.79       286\n",
      "   20news-18828\\comp.sys.mac.hardware       0.91      0.87      0.89       275\n",
      "          20news-18828\\comp.windows.x       0.88      0.86      0.87       300\n",
      "            20news-18828\\misc.forsale       0.82      0.88      0.85       287\n",
      "               20news-18828\\rec.autos       0.92      0.92      0.92       302\n",
      "         20news-18828\\rec.motorcycles       0.98      0.95      0.97       317\n",
      "      20news-18828\\rec.sport.baseball       0.94      0.93      0.94       300\n",
      "        20news-18828\\rec.sport.hockey       0.96      0.96      0.96       297\n",
      "               20news-18828\\sci.crypt       0.97      0.94      0.95       297\n",
      "         20news-18828\\sci.electronics       0.86      0.87      0.87       318\n",
      "                 20news-18828\\sci.med       0.92      0.92      0.92       295\n",
      "               20news-18828\\sci.space       0.97      0.95      0.96       291\n",
      "  20news-18828\\soc.religion.christian       0.92      0.93      0.93       332\n",
      "      20news-18828\\talk.politics.guns       0.94      0.94      0.94       252\n",
      "   20news-18828\\talk.politics.mideast       0.98      0.97      0.97       294\n",
      "      20news-18828\\talk.politics.misc       0.88      0.90      0.89       221\n",
      "      20news-18828\\talk.religion.misc       0.87      0.80      0.84       182\n",
      "\n",
      "                             accuracy                           0.90      5649\n",
      "                            macro avg       0.90      0.90      0.90      5649\n",
      "                         weighted avg       0.90      0.90      0.90      5649\n",
      "\n"
     ]
    }
   ],
   "source": [
    "# Evaluar el modelo\n",
    "y_pred = best_model_pipeline.predict(x_test)\n",
    "print(classification_report(y_test, y_pred))"
   ]
  }
 ],
 "metadata": {
  "kernelspec": {
   "display_name": ".venv",
   "language": "python",
   "name": "python3"
  },
  "language_info": {
   "codemirror_mode": {
    "name": "ipython",
    "version": 3
   },
   "file_extension": ".py",
   "mimetype": "text/x-python",
   "name": "python",
   "nbconvert_exporter": "python",
   "pygments_lexer": "ipython3",
   "version": "3.12.3"
  }
 },
 "nbformat": 4,
 "nbformat_minor": 4
}
