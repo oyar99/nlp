{
 "cells": [
  {
   "cell_type": "code",
   "execution_count": 163,
   "metadata": {},
   "outputs": [],
   "source": [
    "from glob import glob\n",
    "from tqdm import tqdm\n",
    "from pandas import DataFrame\n",
    "import re"
   ]
  },
  {
   "cell_type": "markdown",
   "metadata": {},
   "source": [
    "## 20 News"
   ]
  },
  {
   "cell_type": "code",
   "execution_count": 164,
   "metadata": {},
   "outputs": [
    {
     "data": {
      "text/plain": [
       "18828"
      ]
     },
     "execution_count": 164,
     "metadata": {},
     "output_type": "execute_result"
    }
   ],
   "source": [
    "news_corpus = glob('./raw_data/20news-18828/*/*')\n",
    "len(news_corpus)"
   ]
  },
  {
   "cell_type": "code",
   "execution_count": 169,
   "metadata": {},
   "outputs": [],
   "source": [
    "def clean_text(txt):\n",
    "    txt = txt.lower()\n",
    "    # Remove emails, HTML tags, and specific keywords in one pass\n",
    "    txt = re.sub(r'\\S*@\\S*\\s?|from: |re: |subject: ', '', txt)\n",
    "    \n",
    "    # Replace ?,!, and : with .\n",
    "    txt = re.sub(r'[?!:]', '.', txt)\n",
    "    \n",
    "    # Replace non-alphanumeric characters, except ., space, and newline\n",
    "    txt = re.sub(r'[^A-Za-z0-9. \\n]', '', txt)\n",
    "    \n",
    "    # Replace numbers with 'NUM' if they are standalone\n",
    "    txt = re.sub(r'\\b\\d+\\b', 'NUM', txt)\n",
    "    \n",
    "    # Replace multiple newlines with '.', and single newline with space\n",
    "    txt = re.sub(r'\\n{2,}', '.', txt)\n",
    "    txt = re.sub(r'\\n', ' ', txt)\n",
    "    \n",
    "    # Remove suspensive dots '...' and replace multiple dots with a single dot\n",
    "    txt = re.sub(r'\\.\\.+', '.', txt)\n",
    "    \n",
    "    # Replace multiple spaces with a single space\n",
    "    txt = re.sub(r'\\s+', ' ', txt)\n",
    "    \n",
    "    return txt.strip()\n"
   ]
  },
  {
   "cell_type": "code",
   "execution_count": 170,
   "metadata": {},
   "outputs": [
    {
     "name": "stderr",
     "output_type": "stream",
     "text": [
      "100%|██████████| 18828/18828 [00:03<00:00, 5696.64it/s]\n"
     ]
    }
   ],
   "source": [
    "def read_file(f):\n",
    "    try:\n",
    "        with open(f, 'r', encoding='utf-8') as file:\n",
    "            txt = file.read()\n",
    "    except UnicodeDecodeError:\n",
    "        with open(f, 'r', encoding='latin1') as file:\n",
    "            txt = file.read()\n",
    "    \n",
    "    return txt\n",
    "\n",
    "df_rows = []\n",
    "for f in tqdm(news_corpus):\n",
    "    txt = read_file(f)\n",
    "    txt_cln = clean_text(txt)\n",
    "    \n",
    "    # Dividir el texto en oraciones y limpiar oraciones cortas\n",
    "    sentences = [f'<s> {s.strip()} </s>' for s in re.split(r'\\.\\s*', txt_cln) if len(s.strip().split()) > 1]\n",
    "    \n",
    "    # Crear filas de DataFrame\n",
    "    df_rows.extend([{\n",
    "        'text': s,\n",
    "        'source': f,\n",
    "        'length': len(s.split())\n",
    "    } for s in sentences])\n",
    "        \n",
    "        "
   ]
  },
  {
   "cell_type": "code",
   "execution_count": 174,
   "metadata": {},
   "outputs": [
    {
     "data": {
      "text/html": [
       "<div>\n",
       "<style scoped>\n",
       "    .dataframe tbody tr th:only-of-type {\n",
       "        vertical-align: middle;\n",
       "    }\n",
       "\n",
       "    .dataframe tbody tr th {\n",
       "        vertical-align: top;\n",
       "    }\n",
       "\n",
       "    .dataframe thead th {\n",
       "        text-align: right;\n",
       "    }\n",
       "</style>\n",
       "<table border=\"1\" class=\"dataframe\">\n",
       "  <thead>\n",
       "    <tr style=\"text-align: right;\">\n",
       "      <th></th>\n",
       "      <th>text</th>\n",
       "      <th>source</th>\n",
       "      <th>length</th>\n",
       "    </tr>\n",
       "  </thead>\n",
       "  <tbody>\n",
       "    <tr>\n",
       "      <th>0</th>\n",
       "      <td>&lt;s&gt; nick pettefar bmw battery &lt;/s&gt;</td>\n",
       "      <td>./raw_data/20news-18828/rec.motorcycles/104315</td>\n",
       "      <td>6</td>\n",
       "    </tr>\n",
       "    <tr>\n",
       "      <th>1</th>\n",
       "      <td>&lt;s&gt; keith hanlan on the wed NUM apr NUM NUM &lt;/s&gt;</td>\n",
       "      <td>./raw_data/20news-18828/rec.motorcycles/104315</td>\n",
       "      <td>11</td>\n",
       "    </tr>\n",
       "    <tr>\n",
       "      <th>2</th>\n",
       "      <td>&lt;s&gt; NUM gmt wibbled &lt;/s&gt;</td>\n",
       "      <td>./raw_data/20news-18828/rec.motorcycles/104315</td>\n",
       "      <td>5</td>\n",
       "    </tr>\n",
       "    <tr>\n",
       "      <th>3</th>\n",
       "      <td>&lt;s&gt; in article craig a &lt;/s&gt;</td>\n",
       "      <td>./raw_data/20news-18828/rec.motorcycles/104315</td>\n",
       "      <td>6</td>\n",
       "    </tr>\n",
       "    <tr>\n",
       "      <th>4</th>\n",
       "      <td>&lt;s&gt; vechorik writes &lt;/s&gt;</td>\n",
       "      <td>./raw_data/20news-18828/rec.motorcycles/104315</td>\n",
       "      <td>4</td>\n",
       "    </tr>\n",
       "    <tr>\n",
       "      <th>...</th>\n",
       "      <td>...</td>\n",
       "      <td>...</td>\n",
       "      <td>...</td>\n",
       "    </tr>\n",
       "    <tr>\n",
       "      <th>410236</th>\n",
       "      <td>&lt;s&gt; janet reno and the fbi have the murder of ...</td>\n",
       "      <td>./raw_data/20news-18828/talk.politics.guns/54348</td>\n",
       "      <td>17</td>\n",
       "    </tr>\n",
       "    <tr>\n",
       "      <th>410237</th>\n",
       "      <td>&lt;s&gt; hope they can sleep at night &lt;/s&gt;</td>\n",
       "      <td>./raw_data/20news-18828/talk.politics.guns/54348</td>\n",
       "      <td>8</td>\n",
       "    </tr>\n",
       "    <tr>\n",
       "      <th>410238</th>\n",
       "      <td>&lt;s&gt; vasilion kb2nmv suny buffalo std &lt;/s&gt;</td>\n",
       "      <td>./raw_data/20news-18828/talk.politics.guns/54348</td>\n",
       "      <td>7</td>\n",
       "    </tr>\n",
       "    <tr>\n",
       "      <th>410239</th>\n",
       "      <td>&lt;s&gt; all you cult haters happy now &lt;/s&gt;</td>\n",
       "      <td>./raw_data/20news-18828/talk.politics.guns/54348</td>\n",
       "      <td>8</td>\n",
       "    </tr>\n",
       "    <tr>\n",
       "      <th>410240</th>\n",
       "      <td>&lt;s&gt; just hope that your not next &lt;/s&gt;</td>\n",
       "      <td>./raw_data/20news-18828/talk.politics.guns/54348</td>\n",
       "      <td>8</td>\n",
       "    </tr>\n",
       "  </tbody>\n",
       "</table>\n",
       "<p>410241 rows × 3 columns</p>\n",
       "</div>"
      ],
      "text/plain": [
       "                                                     text  \\\n",
       "0                      <s> nick pettefar bmw battery </s>   \n",
       "1        <s> keith hanlan on the wed NUM apr NUM NUM </s>   \n",
       "2                                <s> NUM gmt wibbled </s>   \n",
       "3                             <s> in article craig a </s>   \n",
       "4                                <s> vechorik writes </s>   \n",
       "...                                                   ...   \n",
       "410236  <s> janet reno and the fbi have the murder of ...   \n",
       "410237              <s> hope they can sleep at night </s>   \n",
       "410238          <s> vasilion kb2nmv suny buffalo std </s>   \n",
       "410239             <s> all you cult haters happy now </s>   \n",
       "410240              <s> just hope that your not next </s>   \n",
       "\n",
       "                                                  source  length  \n",
       "0         ./raw_data/20news-18828/rec.motorcycles/104315       6  \n",
       "1         ./raw_data/20news-18828/rec.motorcycles/104315      11  \n",
       "2         ./raw_data/20news-18828/rec.motorcycles/104315       5  \n",
       "3         ./raw_data/20news-18828/rec.motorcycles/104315       6  \n",
       "4         ./raw_data/20news-18828/rec.motorcycles/104315       4  \n",
       "...                                                  ...     ...  \n",
       "410236  ./raw_data/20news-18828/talk.politics.guns/54348      17  \n",
       "410237  ./raw_data/20news-18828/talk.politics.guns/54348       8  \n",
       "410238  ./raw_data/20news-18828/talk.politics.guns/54348       7  \n",
       "410239  ./raw_data/20news-18828/talk.politics.guns/54348       8  \n",
       "410240  ./raw_data/20news-18828/talk.politics.guns/54348       8  \n",
       "\n",
       "[410241 rows x 3 columns]"
      ]
     },
     "execution_count": 174,
     "metadata": {},
     "output_type": "execute_result"
    }
   ],
   "source": [
    "df_news = DataFrame(df_rows)\n",
    "df_news"
   ]
  },
  {
   "cell_type": "code",
   "execution_count": 173,
   "metadata": {},
   "outputs": [],
   "source": [
    "df_news.to_parquet('./data/20news.parquet', index=False)"
   ]
  },
  {
   "cell_type": "code",
   "execution_count": null,
   "metadata": {},
   "outputs": [],
   "source": []
  }
 ],
 "metadata": {
  "kernelspec": {
   "display_name": "Python 3",
   "language": "python",
   "name": "python3"
  },
  "language_info": {
   "codemirror_mode": {
    "name": "ipython",
    "version": 3
   },
   "file_extension": ".py",
   "mimetype": "text/x-python",
   "name": "python",
   "nbconvert_exporter": "python",
   "pygments_lexer": "ipython3",
   "version": "3.10.12"
  }
 },
 "nbformat": 4,
 "nbformat_minor": 2
}
