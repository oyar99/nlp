{
 "cells": [
  {
   "cell_type": "markdown",
   "id": "8b8afa2b-90f9-40ee-b1c7-9dcddefba398",
   "metadata": {},
   "source": [
    "# Tarea 2 – ISIS 4221, Notebook II"
   ]
  },
  {
   "cell_type": "markdown",
   "id": "33740950-a73e-4aaa-91ac-0ee480a992b4",
   "metadata": {},
   "source": [
    "## Paso 0: Preparacion"
   ]
  },
  {
   "cell_type": "code",
   "execution_count": 1,
   "id": "0ab3eab9",
   "metadata": {
    "vscode": {
     "languageId": "shellscript"
    }
   },
   "outputs": [],
   "source": [
    "from load_ngram_model import load_ngram_model\n",
    "import numpy as np\n",
    "import pandas as pd"
   ]
  },
  {
   "cell_type": "code",
   "execution_count": 2,
   "id": "9be4957a",
   "metadata": {
    "vscode": {
     "languageId": "shellscript"
    }
   },
   "outputs": [
    {
     "name": "stdout",
     "output_type": "stream",
     "text": [
      "Modelo 20N_CarlosRaulDeLaRosaPeredoJhonStewarRayoMosqueraMarioGarridoCordoba_unigrams cargado exitosamente.\n",
      "Modelo 20N_CarlosRaulDeLaRosaPeredoJhonStewarRayoMosqueraMarioGarridoCordoba_bigrams cargado exitosamente.\n",
      "Modelo 20N_CarlosRaulDeLaRosaPeredoJhonStewarRayoMosqueraMarioGarridoCordoba_trigrams cargado exitosamente.\n",
      "Modelo BAC_CarlosRaulDeLaRosaPeredoJhonStewarRayoMosqueraMarioGarridoCordoba_unigrams cargado exitosamente.\n",
      "Modelo BAC_CarlosRaulDeLaRosaPeredoJhonStewarRayoMosqueraMarioGarridoCordoba_bigrams cargado exitosamente.\n",
      "Modelo BAC_CarlosRaulDeLaRosaPeredoJhonStewarRayoMosqueraMarioGarridoCordoba_trigrams cargado exitosamente.\n"
     ]
    }
   ],
   "source": [
    "# Load the models for 20N dataset\n",
    "unigram_counts_20n, unigram_20n = load_ngram_model('20N_CarlosRaulDeLaRosaPeredoJhonStewarRayoMosqueraMarioGarridoCordoba_unigrams')\n",
    "bigram_counts_20n, bigram_20n = load_ngram_model('20N_CarlosRaulDeLaRosaPeredoJhonStewarRayoMosqueraMarioGarridoCordoba_bigrams')\n",
    "trigram_counts_20n, trigram_20n = load_ngram_model('20N_CarlosRaulDeLaRosaPeredoJhonStewarRayoMosqueraMarioGarridoCordoba_trigrams')\n",
    "\n",
    "# Load the models for BAC dataset\n",
    "unigram_counts_bac, unigram_bac = load_ngram_model('BAC_CarlosRaulDeLaRosaPeredoJhonStewarRayoMosqueraMarioGarridoCordoba_unigrams')\n",
    "bigram_counts_bac, bigram_bac = load_ngram_model('BAC_CarlosRaulDeLaRosaPeredoJhonStewarRayoMosqueraMarioGarridoCordoba_bigrams')\n",
    "trigram_counts_bac, trigram_bac = load_ngram_model('BAC_CarlosRaulDeLaRosaPeredoJhonStewarRayoMosqueraMarioGarridoCordoba_trigrams')"
   ]
  },
  {
   "cell_type": "code",
   "execution_count": 4,
   "id": "ad785790",
   "metadata": {},
   "outputs": [
    {
     "data": {
      "text/html": [
       "<div>\n",
       "<style scoped>\n",
       "    .dataframe tbody tr th:only-of-type {\n",
       "        vertical-align: middle;\n",
       "    }\n",
       "\n",
       "    .dataframe tbody tr th {\n",
       "        vertical-align: top;\n",
       "    }\n",
       "\n",
       "    .dataframe thead th {\n",
       "        text-align: right;\n",
       "    }\n",
       "</style>\n",
       "<table border=\"1\" class=\"dataframe\">\n",
       "  <thead>\n",
       "    <tr style=\"text-align: right;\">\n",
       "      <th></th>\n",
       "      <th>text</th>\n",
       "      <th>source</th>\n",
       "      <th>category</th>\n",
       "      <th>length</th>\n",
       "    </tr>\n",
       "  </thead>\n",
       "  <tbody>\n",
       "    <tr>\n",
       "      <th>0</th>\n",
       "      <td>&lt;s&gt; atheist resources. &lt;/s&gt;</td>\n",
       "      <td>./raw_data/20news-18828\\alt.atheism\\49960</td>\n",
       "      <td>alt.atheism</td>\n",
       "      <td>4</td>\n",
       "    </tr>\n",
       "    <tr>\n",
       "      <th>1</th>\n",
       "      <td>&lt;s&gt; NUM NUM 8900.evolution designs.evolution d...</td>\n",
       "      <td>./raw_data/20news-18828\\alt.atheism\\49960</td>\n",
       "      <td>alt.atheism</td>\n",
       "      <td>11</td>\n",
       "    </tr>\n",
       "    <tr>\n",
       "      <th>2</th>\n",
       "      <td>&lt;s&gt; ball and g.w. &lt;/s&gt;</td>\n",
       "      <td>./raw_data/20news-18828\\alt.atheism\\49960</td>\n",
       "      <td>alt.atheism</td>\n",
       "      <td>5</td>\n",
       "    </tr>\n",
       "    <tr>\n",
       "      <th>3</th>\n",
       "      <td>&lt;s&gt; american atheist press. &lt;/s&gt;</td>\n",
       "      <td>./raw_data/20news-18828\\alt.atheism\\49960</td>\n",
       "      <td>alt.atheism</td>\n",
       "      <td>5</td>\n",
       "    </tr>\n",
       "    <tr>\n",
       "      <th>4</th>\n",
       "      <td>&lt;s&gt; isbn NUM 910309 NUM NUM 2nd edition 1986. ...</td>\n",
       "      <td>./raw_data/20news-18828\\alt.atheism\\49960</td>\n",
       "      <td>alt.atheism</td>\n",
       "      <td>18</td>\n",
       "    </tr>\n",
       "  </tbody>\n",
       "</table>\n",
       "</div>"
      ],
      "text/plain": [
       "                                                text  \\\n",
       "0                        <s> atheist resources. </s>   \n",
       "1  <s> NUM NUM 8900.evolution designs.evolution d...   \n",
       "2                             <s> ball and g.w. </s>   \n",
       "3                   <s> american atheist press. </s>   \n",
       "4  <s> isbn NUM 910309 NUM NUM 2nd edition 1986. ...   \n",
       "\n",
       "                                      source     category  length  \n",
       "0  ./raw_data/20news-18828\\alt.atheism\\49960  alt.atheism       4  \n",
       "1  ./raw_data/20news-18828\\alt.atheism\\49960  alt.atheism      11  \n",
       "2  ./raw_data/20news-18828\\alt.atheism\\49960  alt.atheism       5  \n",
       "3  ./raw_data/20news-18828\\alt.atheism\\49960  alt.atheism       5  \n",
       "4  ./raw_data/20news-18828\\alt.atheism\\49960  alt.atheism      18  "
      ]
     },
     "execution_count": 4,
     "metadata": {},
     "output_type": "execute_result"
    }
   ],
   "source": [
    "# Load the 20N testing dataset\n",
    "df_news_test = pd.read_parquet('data/train_test/20N_CarlosRaulDeLaRosaPeredoJhonStewarRayoMosqueraMarioGarridoCordoba_testing.parquet')\n",
    "df_news_test.head()"
   ]
  },
  {
   "cell_type": "code",
   "execution_count": 5,
   "id": "4d62b356",
   "metadata": {},
   "outputs": [
    {
     "data": {
      "text/html": [
       "<div>\n",
       "<style scoped>\n",
       "    .dataframe tbody tr th:only-of-type {\n",
       "        vertical-align: middle;\n",
       "    }\n",
       "\n",
       "    .dataframe tbody tr th {\n",
       "        vertical-align: top;\n",
       "    }\n",
       "\n",
       "    .dataframe thead th {\n",
       "        text-align: right;\n",
       "    }\n",
       "</style>\n",
       "<table border=\"1\" class=\"dataframe\">\n",
       "  <thead>\n",
       "    <tr style=\"text-align: right;\">\n",
       "      <th></th>\n",
       "      <th>text</th>\n",
       "      <th>source</th>\n",
       "      <th>length</th>\n",
       "    </tr>\n",
       "  </thead>\n",
       "  <tbody>\n",
       "    <tr>\n",
       "      <th>0</th>\n",
       "      <td>&lt;s&gt; this has been a lot of rain though. &lt;/s&gt;</td>\n",
       "      <td>./raw_data/blogs\\1000331.female.37.indUnk.Leo.xml</td>\n",
       "      <td>10</td>\n",
       "    </tr>\n",
       "    <tr>\n",
       "      <th>1</th>\n",
       "      <td>&lt;s&gt; but it is supposed to be NUM degrees by fr...</td>\n",
       "      <td>./raw_data/blogs\\1000331.female.37.indUnk.Leo.xml</td>\n",
       "      <td>20</td>\n",
       "    </tr>\n",
       "    <tr>\n",
       "      <th>2</th>\n",
       "      <td>&lt;s&gt; shell say mom. &lt;/s&gt;</td>\n",
       "      <td>./raw_data/blogs\\1000331.female.37.indUnk.Leo.xml</td>\n",
       "      <td>5</td>\n",
       "    </tr>\n",
       "    <tr>\n",
       "      <th>3</th>\n",
       "      <td>&lt;s&gt; this is why i go to work. &lt;/s&gt;</td>\n",
       "      <td>./raw_data/blogs\\1000331.female.37.indUnk.Leo.xml</td>\n",
       "      <td>9</td>\n",
       "    </tr>\n",
       "    <tr>\n",
       "      <th>4</th>\n",
       "      <td>&lt;s&gt; we used to go to the jays games occassiona...</td>\n",
       "      <td>./raw_data/blogs\\1000331.female.37.indUnk.Leo.xml</td>\n",
       "      <td>27</td>\n",
       "    </tr>\n",
       "  </tbody>\n",
       "</table>\n",
       "</div>"
      ],
      "text/plain": [
       "                                                text  \\\n",
       "0       <s> this has been a lot of rain though. </s>   \n",
       "1  <s> but it is supposed to be NUM degrees by fr...   \n",
       "2                            <s> shell say mom. </s>   \n",
       "3                 <s> this is why i go to work. </s>   \n",
       "4  <s> we used to go to the jays games occassiona...   \n",
       "\n",
       "                                              source  length  \n",
       "0  ./raw_data/blogs\\1000331.female.37.indUnk.Leo.xml      10  \n",
       "1  ./raw_data/blogs\\1000331.female.37.indUnk.Leo.xml      20  \n",
       "2  ./raw_data/blogs\\1000331.female.37.indUnk.Leo.xml       5  \n",
       "3  ./raw_data/blogs\\1000331.female.37.indUnk.Leo.xml       9  \n",
       "4  ./raw_data/blogs\\1000331.female.37.indUnk.Leo.xml      27  "
      ]
     },
     "execution_count": 5,
     "metadata": {},
     "output_type": "execute_result"
    }
   ],
   "source": [
    "# Load the bac testing dataset\n",
    "df_bac_test = pd.read_parquet('data/train_test/BAC_CarlosRaulDeLaRosaPeredoJhonStewarRayoMosqueraMarioGarridoCordoba_testing.parquet')\n",
    "df_bac_test.head()"
   ]
  },
  {
   "cell_type": "markdown",
   "id": "1fc636ae-4da0-4107-a3d1-8be464466306",
   "metadata": {},
   "source": [
    "## Paso 1: Definición de las Funciones Necesarias"
   ]
  },
  {
   "cell_type": "code",
   "execution_count": 11,
   "id": "d53e3286-1636-4c0a-bf3e-29050ce08a15",
   "metadata": {},
   "outputs": [],
   "source": [
    "def estimate_probability(token_text: list[str], n_gram: int, \n",
    "                         final_unigram: dict, ngram_counts: dict) -> float:\n",
    "    \"\"\"\n",
    "    Estima la probabilidad de un n-grama dado usando un modelo de n-gramas.\n",
    "\n",
    "    Args:\n",
    "        token_text (list[str]): La secuencia de tokens para la cual se desea estimar la probabilidad.\n",
    "        n_gram (int): El tamaño del n-grama.\n",
    "        final_unigram (dict): El diccionario que contiene las frecuencias de los (n-1)-gramas.\n",
    "        ngram_counts (dict): El diccionario que contiene las frecuencias de los n-gramas.\n",
    "\n",
    "    Raises:\n",
    "        ValueError: Si el número de tokens en `token_text` no coincide con `n_gram`.\n",
    "\n",
    "    Returns:\n",
    "        float: La probabilidad estimada del n-grama dado.\n",
    "\n",
    "    Notas:\n",
    "        - La función utiliza suavizado de Laplace para evitar probabilidades de cero.\n",
    "        - Si el prefijo (n-1)-grama no se encuentra en `final_unigram`, se reemplaza con (`<UNK>`,)* (n_gram-1).\n",
    "    \"\"\"    \n",
    "    \n",
    "    if len(token_text) != n_gram:\n",
    "        raise ValueError(f'El texto de entrada debe tener {n_gram} tokens')\n",
    "    \n",
    "    # Reemplaza el prefijo con `<UNK>` si no se encuentra en final_unigram\n",
    "    if not final_unigram.get(tuple(token_text[:n_gram-1])):\n",
    "        token_text = list(token_text)\n",
    "        token_text[:n_gram] = ('<UNK>',) * (n_gram-1)\n",
    "        token_text = tuple(token_text)\n",
    "\n",
    "    # Suavizado de Laplace\n",
    "    # Probabilidad del (n-1)-grama más tamaño del vocabulario\n",
    "    p_wi = final_unigram.get(tuple(token_text[:n_gram-1]), 0) + len(final_unigram)\n",
    "    \n",
    "    # Probabilidad del n-grama completo dado su (n-1)-grama\n",
    "    p_w_wi = (ngram_counts.get(tuple(token_text), 1)) / p_wi\n",
    "        \n",
    "    return p_w_wi\n",
    "\n",
    "def compute_perplexity(test_set, ngram_counts, final_unigram, n_gram):\n",
    "    \"\"\"\n",
    "    Calcula la perplejidad de un conjunto de prueba usando el modelo de n-gramas.\n",
    "\n",
    "    La perplejidad es una métrica que evalúa qué tan bien el modelo predice el texto de prueba. \n",
    "    Valores más bajos de perplejidad indican mejores predicciones.\n",
    "\n",
    "    Args:\n",
    "        test_set (list): El conjunto de oraciones de prueba.\n",
    "        ngram_counts (dict): El modelo de n-gramas con las frecuencias de los n-gramas.\n",
    "        final_unigram (dict): El modelo de (n-1)-gramas con las frecuencias.\n",
    "        n_gram (int): El tamaño del n-grama (1 para unigramas, 2 para bigramas, etc.).\n",
    "\n",
    "    Returns:\n",
    "        float: El valor de la perplejidad calculada para el conjunto de prueba.\n",
    "    \"\"\"\n",
    "    perplexity = 0  # Inicializa la suma acumulativa de la perplejidad.\n",
    "    total_words = 0  # Contador para el número total de palabras procesadas.\n",
    "    \n",
    "    for sentence in test_set:\n",
    "        tokens = sentence.split()  # Divide la oración en tokens.\n",
    "        \n",
    "        # Recorre los tokens desde el índice n_gram - 1 hasta el final.\n",
    "        for i in range(n_gram - 1, len(tokens)):\n",
    "            # Estima la probabilidad del n-grama actual.\n",
    "            prob = estimate_probability(tokens[i-n_gram+1:i+1], n_gram, final_unigram, ngram_counts)\n",
    "            # Calcula la logaritmo negativo de la probabilidad y la suma a la perplejidad.\n",
    "            perplexity -= np.log(prob)\n",
    "        \n",
    "        # Incrementa el número total de palabras procesadas.\n",
    "        total_words += len(tokens) - (n_gram - 1)\n",
    "    \n",
    "    # Devuelve la perplejidad exponencial media.\n",
    "    return np.exp(perplexity / total_words)\n",
    "\n",
    "def generate_sentence(start_word, ngram_counts, n_gram, max_length=15):\n",
    "    \"\"\"\n",
    "    Genera una oración automáticamente a partir de un modelo de n-gramas.\n",
    "\n",
    "    Esta función toma una palabra inicial y construye una oración basada en los n-gramas más frecuentes\n",
    "    del modelo, generando hasta `max_length` palabras.\n",
    "\n",
    "    Args:\n",
    "        start_word (str): La primera palabra de la oración.\n",
    "        ngram_counts (dict): El modelo de n-gramas con las frecuencias de los n-gramas.\n",
    "        final_unigram (dict): El modelo de (n-1)-gramas con las frecuencias.\n",
    "        n_gram (int): El tamaño del n-grama utilizado (1 para unigramas, 2 para bigramas, etc.).\n",
    "        max_length (int): La longitud máxima de la oración generada.\n",
    "\n",
    "    Returns:\n",
    "        str: La oración generada automáticamente.\n",
    "    \"\"\"\n",
    "    sentence = [start_word]  # Inicializa la oración con la palabra inicial.\n",
    "    \n",
    "    for _ in range(max_length):\n",
    "        # Encuentra los candidatos a la siguiente palabra basados en el contexto actual.\n",
    "        next_token_candidates = [(ngram[-1], count) for ngram, count in ngram_counts.items()\n",
    "                                 if ngram[:-1] == tuple(sentence[-(n_gram-1):])]\n",
    "        \n",
    "        if not next_token_candidates:\n",
    "            break  # Sale del bucle si no hay candidatos válidos.\n",
    "        \n",
    "        # Selecciona la siguiente palabra con la mayor frecuencia.\n",
    "        next_token = max(next_token_candidates, key=lambda x: x[1])[0]\n",
    "        sentence.append(next_token)  # Añade la palabra seleccionada a la oración.\n",
    "        \n",
    "        if next_token == '</s>':\n",
    "            break  # Termina la oración si se encuentra el token de finalización.\n",
    "    \n",
    "    return ' '.join(sentence)  # Devuelve la oración generada como una cadena de texto."
   ]
  },
  {
   "cell_type": "markdown",
   "id": "07e93c22-aa58-405b-9ac8-1ffb67ff1ab5",
   "metadata": {},
   "source": [
    "## Paso 2: Cálculo de la Perplejidad de los Modelos de N-gramas de 20N y BAC"
   ]
  },
  {
   "cell_type": "code",
   "execution_count": 8,
   "id": "43c545d3-a972-45b2-bf08-323631f48e35",
   "metadata": {},
   "outputs": [
    {
     "name": "stdout",
     "output_type": "stream",
     "text": [
      "Perplejidad (Unigrama 20N): 1.0\n",
      "Perplejidad (Bigrama 20N): 4683.496965341476\n",
      "Perplejidad (Trigrama 20N): 168769.4673538683\n"
     ]
    }
   ],
   "source": [
    "# Calcula la perplejidad de los modelos de N-gramas de 20N\n",
    "perplexity_unigram_20n = compute_perplexity(df_news_test['text'], unigram_counts_20n, unigram_20n, 1)\n",
    "perplexity_bigram_20n = compute_perplexity(df_news_test['text'], bigram_counts_20n, bigram_20n, 2)\n",
    "perplexity_trigram_20n = compute_perplexity(df_news_test['text'], trigram_counts_20n, trigram_20n, 3)\n",
    "\n",
    "print(f\"Perplejidad (Unigrama 20N): {perplexity_unigram_20n}\")\n",
    "print(f\"Perplejidad (Bigrama 20N): {perplexity_bigram_20n}\")\n",
    "print(f\"Perplejidad (Trigrama 20N): {perplexity_trigram_20n}\")"
   ]
  },
  {
   "cell_type": "code",
   "execution_count": 9,
   "id": "60239c46-cd30-471e-81f1-bc579b5ddb9f",
   "metadata": {},
   "outputs": [
    {
     "name": "stdout",
     "output_type": "stream",
     "text": [
      "Perplejidad (Unigrama BAC): 1.0\n",
      "Perplejidad (Bigrama BAC): 1596.4153151273158\n",
      "Perplejidad (Trigrama BAC): 267404.24922253174\n"
     ]
    }
   ],
   "source": [
    "# Calcula la perplejidad de los modelos de N-gramas de BAC\n",
    "perplexity_unigram_bac = compute_perplexity(df_bac_test['text'], unigram_counts_bac, unigram_bac, 1)\n",
    "perplexity_bigram_bac = compute_perplexity(df_bac_test['text'], bigram_counts_bac, bigram_bac, 2)\n",
    "perplexity_trigram_bac = compute_perplexity(df_bac_test['text'], trigram_counts_bac, trigram_bac, 3)\n",
    "\n",
    "print(f\"Perplejidad (Unigrama BAC): {perplexity_unigram_bac}\")\n",
    "print(f\"Perplejidad (Bigrama BAC): {perplexity_bigram_bac}\")\n",
    "print(f\"Perplejidad (Trigrama BAC): {perplexity_trigram_bac}\")"
   ]
  },
  {
   "cell_type": "markdown",
   "id": "4f1643a7-bb89-4b96-bdd0-c60da1cd10ef",
   "metadata": {},
   "source": [
    "## Paso 3: Generación de Sentencias con los Mejores Modelos de N-gramas de 20N y BAC"
   ]
  },
  {
   "cell_type": "code",
   "execution_count": 27,
   "id": "70cade6f-32a3-43d1-94a5-2728ac50e4e8",
   "metadata": {},
   "outputs": [
    {
     "name": "stdout",
     "output_type": "stream",
     "text": [
      "Oración generada (20N): <s> i have a ('<UNK>',) ('<UNK>',) ('<UNK>',) ('<UNK>',) ('<UNK>',) ('<UNK>',) ('<UNK>',)\n"
     ]
    }
   ],
   "source": [
    "# Ejemplo de generación de oraciones con `bigram_counts_20n`\n",
    "generated_sentence_20n = generate_sentence('<s>', bigram_counts_20n, 2, 10)\n",
    "print(f\"Oración generada (20N): {generated_sentence_20n}\")"
   ]
  },
  {
   "cell_type": "code",
   "execution_count": 28,
   "id": "c4e38da7-b4dd-499a-af75-7c176c014ce4",
   "metadata": {},
   "outputs": [
    {
     "name": "stdout",
     "output_type": "stream",
     "text": [
      "Oración generada (BAC): book and i was a little bit of the same time\n"
     ]
    }
   ],
   "source": [
    "# Ejemplo de generación de oraciones con `bigram_counts_bac`\n",
    "generated_sentence_bac = generate_sentence('book', bigram_counts_bac, 2, 10)\n",
    "print(f\"Oración generada (BAC): {generated_sentence_bac}\")"
   ]
  },
  {
   "cell_type": "code",
   "execution_count": 29,
   "id": "ddd37ea2",
   "metadata": {},
   "outputs": [
    {
     "name": "stdout",
     "output_type": "stream",
     "text": [
      "Oración generada (BAC): tonight i was a little bit of the same time to\n"
     ]
    }
   ],
   "source": [
    "# Ejemplo de generación de oraciones con `bigram_counts_bac`\n",
    "generated_sentence_bac = generate_sentence('tonight', bigram_counts_bac, 2, 10)\n",
    "print(f\"Oración generada (BAC): {generated_sentence_bac}\")"
   ]
  },
  {
   "cell_type": "code",
   "execution_count": 30,
   "id": "b05f0ea9",
   "metadata": {},
   "outputs": [
    {
     "name": "stdout",
     "output_type": "stream",
     "text": [
      "Oración generada (BAC): hilarious and i was a little bit of the same time\n"
     ]
    }
   ],
   "source": [
    "# Ejemplo de generación de oraciones con `bigram_counts_bac`\n",
    "generated_sentence_bac = generate_sentence('hilarious', bigram_counts_bac, 2, 10)\n",
    "print(f\"Oración generada (BAC): {generated_sentence_bac}\")"
   ]
  },
  {
   "cell_type": "code",
   "execution_count": 37,
   "id": "c0b873c0",
   "metadata": {},
   "outputs": [
    {
     "name": "stdout",
     "output_type": "stream",
     "text": [
      "Oración generada (BAC): he was a little bit of the same time to the\n"
     ]
    }
   ],
   "source": [
    "# Ejemplo de generación de oraciones con `bigram_counts_bac`\n",
    "generated_sentence_bac = generate_sentence('he', bigram_counts_bac, 2, 10)\n",
    "print(f\"Oración generada (BAC): {generated_sentence_bac}\")"
   ]
  },
  {
   "cell_type": "code",
   "execution_count": 38,
   "id": "dd4202f5",
   "metadata": {},
   "outputs": [
    {
     "name": "stdout",
     "output_type": "stream",
     "text": [
      "Oración generada (BAC): </s>\n"
     ]
    }
   ],
   "source": [
    "# Ejemplo de generación de oraciones con `bigram_counts_bac`\n",
    "generated_sentence_bac = generate_sentence('</s>', bigram_counts_bac, 2, 10)\n",
    "print(f\"Oración generada (BAC): {generated_sentence_bac}\")"
   ]
  },
  {
   "cell_type": "code",
   "execution_count": 39,
   "id": "dc057d96",
   "metadata": {},
   "outputs": [
    {
     "name": "stdout",
     "output_type": "stream",
     "text": [
      "Oración generada (BAC): <s> i was a little bit of the same time to\n"
     ]
    }
   ],
   "source": [
    "# Ejemplo de generación de oraciones con `bigram_counts_bac`\n",
    "generated_sentence_bac = generate_sentence('<s>', bigram_counts_bac, 2, 10)\n",
    "print(f\"Oración generada (BAC): {generated_sentence_bac}\")"
   ]
  },
  {
   "cell_type": "code",
   "execution_count": null,
   "id": "5deba91b",
   "metadata": {},
   "outputs": [],
   "source": []
  }
 ],
 "metadata": {
  "kernelspec": {
   "display_name": "Python 3 (ipykernel)",
   "language": "python",
   "name": "python3"
  },
  "language_info": {
   "codemirror_mode": {
    "name": "ipython",
    "version": 3
   },
   "file_extension": ".py",
   "mimetype": "text/x-python",
   "name": "python",
   "nbconvert_exporter": "python",
   "pygments_lexer": "ipython3",
   "version": "3.9.13"
  }
 },
 "nbformat": 4,
 "nbformat_minor": 5
}
