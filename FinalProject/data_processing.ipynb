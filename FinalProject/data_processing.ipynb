{
 "cells": [
  {
   "cell_type": "code",
   "execution_count": 1,
   "metadata": {},
   "outputs": [],
   "source": [
    "from datasets import Dataset, load_dataset, load_from_disk\n",
    "from pandas import read_pickle\n",
    "import json\n",
    "from re import compile"
   ]
  },
  {
   "cell_type": "code",
   "execution_count": 2,
   "metadata": {},
   "outputs": [],
   "source": [
    "pattern_newline = compile(r'[\\n\\t\\u200e]')  # Elimina saltos de línea, tabulaciones y caracteres no deseados\n",
    "pattern_multiple_spaces = compile(r' +')  # Elimina múltiples espacios consecutivos\n",
    "\n",
    "def simple_cleaning(query: str) -> str:\n",
    "    cln_query = pattern_newline.sub(' ', query)\n",
    "    cln_query = pattern_multiple_spaces.sub(' ', cln_query).strip()\n",
    "    return cln_query"
   ]
  },
  {
   "cell_type": "code",
   "execution_count": 3,
   "metadata": {},
   "outputs": [],
   "source": [
    "with open('./ObliQADataset/ObliQA_train.json') as f:\n",
    "    data_train = json.load(f)\n",
    "    \n",
    "with open('./ObliQADataset/ObliQA_dev.json') as f:\n",
    "    data_eval = json.load(f)\n",
    "    \n",
    "with open('./ObliQADataset/ObliQA_test.json') as f:\n",
    "    data_test = json.load(f)   "
   ]
  },
  {
   "cell_type": "code",
   "execution_count": 4,
   "metadata": {},
   "outputs": [
    {
     "data": {
      "text/plain": [
       "(22295, 2788, 2786)"
      ]
     },
     "execution_count": 4,
     "metadata": {},
     "output_type": "execute_result"
    }
   ],
   "source": [
    "len(data_train), len(data_eval), len(data_test)"
   ]
  },
  {
   "cell_type": "markdown",
   "metadata": {},
   "source": [
    "### Hard Negatives only for train data"
   ]
  },
  {
   "cell_type": "code",
   "execution_count": 5,
   "metadata": {},
   "outputs": [
    {
     "data": {
      "application/vnd.jupyter.widget-view+json": {
       "model_id": "d00e3057dae84c33a57bcbcfaed137be",
       "version_major": 2,
       "version_minor": 0
      },
      "text/plain": [
       "Saving the dataset (0/1 shards):   0%|          | 0/29547 [00:00<?, ? examples/s]"
      ]
     },
     "metadata": {},
     "output_type": "display_data"
    },
    {
     "data": {
      "text/plain": [
       "Dataset({\n",
       "    features: ['anchor_id', 'anchor', 'positive', 'positive_id', 'negative', 'negative_2'],\n",
       "    num_rows: 29547\n",
       "})"
      ]
     },
     "execution_count": 5,
     "metadata": {},
     "output_type": "execute_result"
    }
   ],
   "source": [
    "hard_negatives = read_pickle('./data/retrieved_train_hard_negatives.pkl')\n",
    "\n",
    "train_set = []\n",
    "for q in data_train:\n",
    "    q_id = q['QuestionID']\n",
    "    for rel_doc in q['Passages']:\n",
    "        train_set.append({\n",
    "            'anchor_id': q_id,\n",
    "            'anchor': simple_cleaning(q['Question']),\n",
    "            'positive': simple_cleaning(f\"{rel_doc['PassageID']} {rel_doc['Passage']}\"),\n",
    "            'positive_id': f\"{rel_doc['DocumentID']}-{rel_doc['PassageID']}\",\n",
    "            'negative': simple_cleaning(hard_negatives[q_id][0]['text']),\n",
    "            'negative_2': simple_cleaning(hard_negatives[q_id][1]['text']),\n",
    "        })\n",
    "        \n",
    "train_dataset = Dataset.from_list(train_set)\n",
    "\n",
    "train_dataset.save_to_disk('./data/train_dataset')\n",
    "\n",
    "train_dataset"
   ]
  },
  {
   "cell_type": "markdown",
   "metadata": {},
   "source": [
    "### Eval & Test dataset"
   ]
  },
  {
   "cell_type": "code",
   "execution_count": 6,
   "metadata": {},
   "outputs": [
    {
     "data": {
      "application/vnd.jupyter.widget-view+json": {
       "model_id": "621bcea4ed2246fd837f48c0dcb2f33d",
       "version_major": 2,
       "version_minor": 0
      },
      "text/plain": [
       "Saving the dataset (0/1 shards):   0%|          | 0/3677 [00:00<?, ? examples/s]"
      ]
     },
     "metadata": {},
     "output_type": "display_data"
    },
    {
     "data": {
      "text/plain": [
       "Dataset({\n",
       "    features: ['anchor_id', 'anchor', 'positive', 'positive_id'],\n",
       "    num_rows: 3677\n",
       "})"
      ]
     },
     "execution_count": 6,
     "metadata": {},
     "output_type": "execute_result"
    }
   ],
   "source": [
    "eval_set = []\n",
    "for q in data_eval:\n",
    "    q_id = q['QuestionID']\n",
    "    for rel_doc in q['Passages']:\n",
    "        eval_set.append({\n",
    "            'anchor_id': q_id,\n",
    "            'anchor': simple_cleaning(q['Question']),\n",
    "            'positive': f\"{rel_doc['PassageID']} {rel_doc['Passage']}\",\n",
    "            'positive_id': f\"{rel_doc['DocumentID']}-{rel_doc['PassageID']}\",\n",
    "        })\n",
    "        \n",
    "eval_dataset = Dataset.from_list(eval_set)\n",
    "\n",
    "eval_dataset.save_to_disk('./data/eval_dataset')\n",
    "\n",
    "eval_dataset"
   ]
  },
  {
   "cell_type": "code",
   "execution_count": 7,
   "metadata": {},
   "outputs": [
    {
     "data": {
      "application/vnd.jupyter.widget-view+json": {
       "model_id": "820e4c2c7f4040f9a242db2ce5b1fd3d",
       "version_major": 2,
       "version_minor": 0
      },
      "text/plain": [
       "Saving the dataset (0/1 shards):   0%|          | 0/3666 [00:00<?, ? examples/s]"
      ]
     },
     "metadata": {},
     "output_type": "display_data"
    },
    {
     "data": {
      "text/plain": [
       "Dataset({\n",
       "    features: ['anchor_id', 'anchor', 'positive', 'positive_id'],\n",
       "    num_rows: 3666\n",
       "})"
      ]
     },
     "execution_count": 7,
     "metadata": {},
     "output_type": "execute_result"
    }
   ],
   "source": [
    "test_set = []\n",
    "for q in data_test:\n",
    "    q_id = q['QuestionID']\n",
    "    for rel_doc in q['Passages']:\n",
    "        test_set.append({\n",
    "            'anchor_id': q_id,\n",
    "            'anchor': simple_cleaning(q['Question']),\n",
    "            'positive': f\"{rel_doc['PassageID']} {rel_doc['Passage']}\",\n",
    "            'positive_id': f\"{rel_doc['DocumentID']}-{rel_doc['PassageID']}\",\n",
    "        })\n",
    "        \n",
    "test_dataset = Dataset.from_list(test_set)\n",
    "\n",
    "test_dataset.save_to_disk('./data/test_dataset')\n",
    "\n",
    "test_dataset"
   ]
  },
  {
   "cell_type": "code",
   "execution_count": 8,
   "metadata": {},
   "outputs": [],
   "source": [
    "from sentence_transformers.evaluation import TripletEvaluator, InformationRetrievalEvaluator"
   ]
  },
  {
   "cell_type": "code",
   "execution_count": 9,
   "metadata": {},
   "outputs": [
    {
     "data": {
      "text/plain": [
       "<sentence_transformers.evaluation.TripletEvaluator.TripletEvaluator at 0x76d1e58033e0>"
      ]
     },
     "execution_count": 9,
     "metadata": {},
     "output_type": "execute_result"
    }
   ],
   "source": [
    "TripletEvaluator(\n",
    "    positives=train_dataset['positive'],\n",
    "    anchors=train_dataset['anchor'],\n",
    "    negatives=train_dataset['negative'],\n",
    "    show_progress_bar=True,\n",
    ")"
   ]
  }
 ],
 "metadata": {
  "kernelspec": {
   "display_name": ".venv",
   "language": "python",
   "name": "python3"
  },
  "language_info": {
   "codemirror_mode": {
    "name": "ipython",
    "version": 3
   },
   "file_extension": ".py",
   "mimetype": "text/x-python",
   "name": "python",
   "nbconvert_exporter": "python",
   "pygments_lexer": "ipython3",
   "version": "3.12.3"
  }
 },
 "nbformat": 4,
 "nbformat_minor": 2
}
