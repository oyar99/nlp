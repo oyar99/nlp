{
 "cells": [
  {
   "cell_type": "markdown",
   "metadata": {},
   "source": [
    "# Clasificación de texto usando embeddings pre-entrenados\n",
    "\n",
    "Este notebook presenta la creación de clasificadores de texto para determinar el autor de un texto entre 3 posibles autores usando embeddings pre-entrenados de `Glove`."
   ]
  },
  {
   "cell_type": "markdown",
   "metadata": {},
   "source": [
    "## 0. Importación de Librerias"
   ]
  },
  {
   "cell_type": "code",
   "execution_count": 6,
   "metadata": {},
   "outputs": [],
   "source": [
    "import pandas as pd\n",
    "import re\n",
    "import gensim\n",
    "from gensim.parsing.preprocessing import STOPWORDS\n",
    "from sklearn.model_selection import train_test_split"
   ]
  },
  {
   "cell_type": "code",
   "execution_count": 3,
   "metadata": {},
   "outputs": [
    {
     "data": {
      "text/html": [
       "<div>\n",
       "<style scoped>\n",
       "    .dataframe tbody tr th:only-of-type {\n",
       "        vertical-align: middle;\n",
       "    }\n",
       "\n",
       "    .dataframe tbody tr th {\n",
       "        vertical-align: top;\n",
       "    }\n",
       "\n",
       "    .dataframe thead th {\n",
       "        text-align: right;\n",
       "    }\n",
       "</style>\n",
       "<table border=\"1\" class=\"dataframe\">\n",
       "  <thead>\n",
       "    <tr style=\"text-align: right;\">\n",
       "      <th></th>\n",
       "      <th>author</th>\n",
       "      <th>sentence</th>\n",
       "    </tr>\n",
       "  </thead>\n",
       "  <tbody>\n",
       "    <tr>\n",
       "      <th>0</th>\n",
       "      <td>Jane Austen</td>\n",
       "      <td>Their estate was large, and their residence wa...</td>\n",
       "    </tr>\n",
       "    <tr>\n",
       "      <th>1</th>\n",
       "      <td>Jane Austen</td>\n",
       "      <td>The late owner of this estate was a single man...</td>\n",
       "    </tr>\n",
       "    <tr>\n",
       "      <th>2</th>\n",
       "      <td>Jane Austen</td>\n",
       "      <td>But her death, which happened ten years before...</td>\n",
       "    </tr>\n",
       "    <tr>\n",
       "      <th>3</th>\n",
       "      <td>Jane Austen</td>\n",
       "      <td>Henry Dashwood to his wishes, which proceeded ...</td>\n",
       "    </tr>\n",
       "    <tr>\n",
       "      <th>4</th>\n",
       "      <td>Jane Austen</td>\n",
       "      <td>The son, a steady respectable young man, was a...</td>\n",
       "    </tr>\n",
       "  </tbody>\n",
       "</table>\n",
       "</div>"
      ],
      "text/plain": [
       "        author                                           sentence\n",
       "0  Jane Austen  Their estate was large, and their residence wa...\n",
       "1  Jane Austen  The late owner of this estate was a single man...\n",
       "2  Jane Austen  But her death, which happened ten years before...\n",
       "3  Jane Austen  Henry Dashwood to his wishes, which proceeded ...\n",
       "4  Jane Austen  The son, a steady respectable young man, was a..."
      ]
     },
     "execution_count": 3,
     "metadata": {},
     "output_type": "execute_result"
    }
   ],
   "source": [
    "# Cargamos el dataset\n",
    "df = pd.read_csv('data/classifier/sentences.csv')\n",
    "df.head()"
   ]
  },
  {
   "cell_type": "markdown",
   "metadata": {},
   "source": [
    "## 1. Preprocesamiento"
   ]
  },
  {
   "cell_type": "code",
   "execution_count": 5,
   "metadata": {},
   "outputs": [],
   "source": [
    "# Conjunto de entrenamiento y prueba\n",
    "x_train, x_test, y_train, y_test = train_test_split(df['sentence'], df['author'],\n",
    "                                                    train_size=0.7, random_state=42)"
   ]
  },
  {
   "cell_type": "code",
   "execution_count": 7,
   "metadata": {},
   "outputs": [
    {
     "data": {
      "text/plain": [
       "2746     [apologies, friend, good, charade, confined, s...\n",
       "6631     [thirteenth, june, french, russian, emperors, ...\n",
       "10127    [handsome, young, soldier, brought, wood, sett...\n",
       "16398    [nonperishable, goods, bought, moses, herzog, ...\n",
       "11648    [race, began, ring, yards, away, course, obsta...\n",
       "Name: sentence, dtype: object"
      ]
     },
     "execution_count": 7,
     "metadata": {},
     "output_type": "execute_result"
    }
   ],
   "source": [
    "# Tokenizacion y preprocesamiento\n",
    "def preprocess_text(text: str) -> list[str]:\n",
    "    \"\"\"\n",
    "    Limpia y tokeniza el texto mediante:\n",
    "    1. Eliminación de puntuación y caracteres especiales.\n",
    "    2. Convierte el texto a minúsculas.\n",
    "    3. Tokenización del texto en palabras.\n",
    "    4. Eliminación de palabras vacías (stopwords).\n",
    "    \n",
    "    Args:\n",
    "    text (str): Texto de entrada a preprocesar.\n",
    "    \n",
    "    Returns:\n",
    "    list: Una lista de tokens (palabras) del texto limpiado.\n",
    "    \"\"\"\n",
    "    # Eliminar cualquier carácter no alfabético, números, etc.\n",
    "    text = re.sub(r'[^\\w\\s]', '', text)\n",
    "    \n",
    "    # Tokenizar y convertir el texto a minúsculas\n",
    "    tokens = gensim.utils.simple_preprocess(text, deacc=True)\n",
    "    \n",
    "    # Eliminar palabras vacías (stopwords)\n",
    "    tokens = [word for word in tokens if word not in STOPWORDS]\n",
    "    \n",
    "    return tokens\n",
    "\n",
    "x_train = x_train.apply(preprocess_text)\n",
    "x_train.head()"
   ]
  },
  {
   "cell_type": "code",
   "execution_count": null,
   "metadata": {},
   "outputs": [],
   "source": [
    "# Cargamos los embeddings pre-entrenados de Glove\n"
   ]
  }
 ],
 "metadata": {
  "kernelspec": {
   "display_name": "Python 3",
   "language": "python",
   "name": "python3"
  },
  "language_info": {
   "codemirror_mode": {
    "name": "ipython",
    "version": 3
   },
   "file_extension": ".py",
   "mimetype": "text/x-python",
   "name": "python",
   "nbconvert_exporter": "python",
   "pygments_lexer": "ipython3",
   "version": "3.9.13"
  }
 },
 "nbformat": 4,
 "nbformat_minor": 2
}
